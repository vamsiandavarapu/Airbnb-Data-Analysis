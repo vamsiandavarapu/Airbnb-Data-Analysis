{
 "cells": [
  {
   "cell_type": "markdown",
   "id": "a1afb136-06b8-45a8-b806-5be7018a5df6",
   "metadata": {
    "jp-MarkdownHeadingCollapsed": true
   },
   "source": [
    "#  Airbnb NYC Listings - Data Analysis Project\n",
    "### Comprehensive Analysis of New York City Airbnb Market"
   ]
  },
  {
   "cell_type": "markdown",
   "id": "fc090718-caf7-4d3f-a700-24ca90a30ca9",
   "metadata": {},
   "source": [
    "# Import required libraries"
   ]
  },
  {
   "cell_type": "code",
   "execution_count": 2,
   "id": "d713ce8c-b84c-4007-92f0-261fd2bcce15",
   "metadata": {},
   "outputs": [],
   "source": [
    "import numpy as np\n",
    "import pandas as pd\n",
    "import matplotlib.pyplot as plt\n",
    "import seaborn as sns"
   ]
  },
  {
   "cell_type": "markdown",
   "id": "593adf23-6f7c-45c8-b1ef-e78d38d1e2ea",
   "metadata": {},
   "source": [
    "# Load dataset"
   ]
  },
  {
   "cell_type": "code",
   "execution_count": 6,
   "id": "a9ce13e3-f293-44c4-9a3f-8fb220ad6074",
   "metadata": {},
   "outputs": [
    {
     "data": {
      "text/html": [
       "<div>\n",
       "<style scoped>\n",
       "    .dataframe tbody tr th:only-of-type {\n",
       "        vertical-align: middle;\n",
       "    }\n",
       "\n",
       "    .dataframe tbody tr th {\n",
       "        vertical-align: top;\n",
       "    }\n",
       "\n",
       "    .dataframe thead th {\n",
       "        text-align: right;\n",
       "    }\n",
       "</style>\n",
       "<table border=\"1\" class=\"dataframe\">\n",
       "  <thead>\n",
       "    <tr style=\"text-align: right;\">\n",
       "      <th></th>\n",
       "      <th>id</th>\n",
       "      <th>name</th>\n",
       "      <th>host_id</th>\n",
       "      <th>host_name</th>\n",
       "      <th>neighbourhood_group</th>\n",
       "      <th>neighbourhood</th>\n",
       "      <th>latitude</th>\n",
       "      <th>longitude</th>\n",
       "      <th>room_type</th>\n",
       "      <th>price</th>\n",
       "      <th>minimum_nights</th>\n",
       "      <th>number_of_reviews</th>\n",
       "      <th>last_review</th>\n",
       "      <th>reviews_per_month</th>\n",
       "      <th>calculated_host_listings_count</th>\n",
       "      <th>availability_365</th>\n",
       "      <th>number_of_reviews_ltm</th>\n",
       "      <th>license</th>\n",
       "    </tr>\n",
       "  </thead>\n",
       "  <tbody>\n",
       "    <tr>\n",
       "      <th>0</th>\n",
       "      <td>2539</td>\n",
       "      <td>Superfast Wi-Fi.  Clean &amp; quiet home by the park</td>\n",
       "      <td>2787</td>\n",
       "      <td>John</td>\n",
       "      <td>Brooklyn</td>\n",
       "      <td>Kensington</td>\n",
       "      <td>40.645290</td>\n",
       "      <td>-73.972380</td>\n",
       "      <td>Private room</td>\n",
       "      <td>NaN</td>\n",
       "      <td>30</td>\n",
       "      <td>9</td>\n",
       "      <td>2018-10-19</td>\n",
       "      <td>0.08</td>\n",
       "      <td>5</td>\n",
       "      <td>343</td>\n",
       "      <td>0</td>\n",
       "      <td>NaN</td>\n",
       "    </tr>\n",
       "    <tr>\n",
       "      <th>1</th>\n",
       "      <td>2595</td>\n",
       "      <td>Skylit Midtown Manhattan Spacious Studio</td>\n",
       "      <td>2845</td>\n",
       "      <td>Jennifer</td>\n",
       "      <td>Manhattan</td>\n",
       "      <td>Midtown</td>\n",
       "      <td>40.753560</td>\n",
       "      <td>-73.985590</td>\n",
       "      <td>Entire home/apt</td>\n",
       "      <td>240.0</td>\n",
       "      <td>30</td>\n",
       "      <td>49</td>\n",
       "      <td>2022-06-21</td>\n",
       "      <td>0.26</td>\n",
       "      <td>3</td>\n",
       "      <td>365</td>\n",
       "      <td>0</td>\n",
       "      <td>NaN</td>\n",
       "    </tr>\n",
       "    <tr>\n",
       "      <th>2</th>\n",
       "      <td>5136</td>\n",
       "      <td>Spacious Family Friendly Duplex w/ Patio + Yard</td>\n",
       "      <td>7378</td>\n",
       "      <td>Rebecca</td>\n",
       "      <td>Brooklyn</td>\n",
       "      <td>Sunset Park</td>\n",
       "      <td>40.662650</td>\n",
       "      <td>-73.994540</td>\n",
       "      <td>Entire home/apt</td>\n",
       "      <td>216.0</td>\n",
       "      <td>30</td>\n",
       "      <td>4</td>\n",
       "      <td>2023-08-20</td>\n",
       "      <td>0.03</td>\n",
       "      <td>1</td>\n",
       "      <td>37</td>\n",
       "      <td>0</td>\n",
       "      <td>NaN</td>\n",
       "    </tr>\n",
       "    <tr>\n",
       "      <th>3</th>\n",
       "      <td>6848</td>\n",
       "      <td>Only 2 stops to Manhattan studio</td>\n",
       "      <td>15991</td>\n",
       "      <td>Allen</td>\n",
       "      <td>Brooklyn</td>\n",
       "      <td>Williamsburg</td>\n",
       "      <td>40.709350</td>\n",
       "      <td>-73.953420</td>\n",
       "      <td>Entire home/apt</td>\n",
       "      <td>96.0</td>\n",
       "      <td>30</td>\n",
       "      <td>195</td>\n",
       "      <td>2025-04-01</td>\n",
       "      <td>1.00</td>\n",
       "      <td>1</td>\n",
       "      <td>182</td>\n",
       "      <td>4</td>\n",
       "      <td>NaN</td>\n",
       "    </tr>\n",
       "    <tr>\n",
       "      <th>4</th>\n",
       "      <td>6872</td>\n",
       "      <td>Uptown Sanctuary w/ Private Bath (Month to Month)</td>\n",
       "      <td>16104</td>\n",
       "      <td>Kahshanna</td>\n",
       "      <td>Manhattan</td>\n",
       "      <td>East Harlem</td>\n",
       "      <td>40.801070</td>\n",
       "      <td>-73.942550</td>\n",
       "      <td>Private room</td>\n",
       "      <td>59.0</td>\n",
       "      <td>30</td>\n",
       "      <td>1</td>\n",
       "      <td>2022-06-05</td>\n",
       "      <td>0.03</td>\n",
       "      <td>2</td>\n",
       "      <td>83</td>\n",
       "      <td>0</td>\n",
       "      <td>NaN</td>\n",
       "    </tr>\n",
       "    <tr>\n",
       "      <th>...</th>\n",
       "      <td>...</td>\n",
       "      <td>...</td>\n",
       "      <td>...</td>\n",
       "      <td>...</td>\n",
       "      <td>...</td>\n",
       "      <td>...</td>\n",
       "      <td>...</td>\n",
       "      <td>...</td>\n",
       "      <td>...</td>\n",
       "      <td>...</td>\n",
       "      <td>...</td>\n",
       "      <td>...</td>\n",
       "      <td>...</td>\n",
       "      <td>...</td>\n",
       "      <td>...</td>\n",
       "      <td>...</td>\n",
       "      <td>...</td>\n",
       "      <td>...</td>\n",
       "    </tr>\n",
       "    <tr>\n",
       "      <th>37013</th>\n",
       "      <td>1410167047871626752</td>\n",
       "      <td>1597-4 Brand new Studio Prime UES W/D walk to ...</td>\n",
       "      <td>162280872</td>\n",
       "      <td>Urban Furnished</td>\n",
       "      <td>Manhattan</td>\n",
       "      <td>Upper East Side</td>\n",
       "      <td>40.774927</td>\n",
       "      <td>-73.948163</td>\n",
       "      <td>Entire home/apt</td>\n",
       "      <td>188.0</td>\n",
       "      <td>30</td>\n",
       "      <td>0</td>\n",
       "      <td>NaN</td>\n",
       "      <td>NaN</td>\n",
       "      <td>247</td>\n",
       "      <td>273</td>\n",
       "      <td>0</td>\n",
       "      <td>NaN</td>\n",
       "    </tr>\n",
       "    <tr>\n",
       "      <th>37014</th>\n",
       "      <td>1410224939829600096</td>\n",
       "      <td>1 Bedroom near transit/airport</td>\n",
       "      <td>80741634</td>\n",
       "      <td>Isidoros</td>\n",
       "      <td>Queens</td>\n",
       "      <td>Ditmars Steinway</td>\n",
       "      <td>40.767953</td>\n",
       "      <td>-73.896711</td>\n",
       "      <td>Entire home/apt</td>\n",
       "      <td>113.0</td>\n",
       "      <td>30</td>\n",
       "      <td>0</td>\n",
       "      <td>NaN</td>\n",
       "      <td>NaN</td>\n",
       "      <td>1</td>\n",
       "      <td>358</td>\n",
       "      <td>0</td>\n",
       "      <td>NaN</td>\n",
       "    </tr>\n",
       "    <tr>\n",
       "      <th>37015</th>\n",
       "      <td>1410271860079756003</td>\n",
       "      <td>Amazing Room with a view</td>\n",
       "      <td>493623509</td>\n",
       "      <td>Ramiro</td>\n",
       "      <td>Manhattan</td>\n",
       "      <td>Hell's Kitchen</td>\n",
       "      <td>40.763070</td>\n",
       "      <td>-73.987230</td>\n",
       "      <td>Private room</td>\n",
       "      <td>125.0</td>\n",
       "      <td>30</td>\n",
       "      <td>0</td>\n",
       "      <td>NaN</td>\n",
       "      <td>NaN</td>\n",
       "      <td>2</td>\n",
       "      <td>364</td>\n",
       "      <td>0</td>\n",
       "      <td>NaN</td>\n",
       "    </tr>\n",
       "    <tr>\n",
       "      <th>37016</th>\n",
       "      <td>1410293830168625880</td>\n",
       "      <td>2 bedrooms apt. Great location</td>\n",
       "      <td>493623509</td>\n",
       "      <td>Ramiro</td>\n",
       "      <td>Manhattan</td>\n",
       "      <td>Hell's Kitchen</td>\n",
       "      <td>40.763120</td>\n",
       "      <td>-73.987430</td>\n",
       "      <td>Entire home/apt</td>\n",
       "      <td>226.0</td>\n",
       "      <td>30</td>\n",
       "      <td>0</td>\n",
       "      <td>NaN</td>\n",
       "      <td>NaN</td>\n",
       "      <td>2</td>\n",
       "      <td>364</td>\n",
       "      <td>0</td>\n",
       "      <td>NaN</td>\n",
       "    </tr>\n",
       "    <tr>\n",
       "      <th>37017</th>\n",
       "      <td>1410301049419283462</td>\n",
       "      <td>Beautiful large studio in HY</td>\n",
       "      <td>14598000</td>\n",
       "      <td>Daniel</td>\n",
       "      <td>Manhattan</td>\n",
       "      <td>Hell's Kitchen</td>\n",
       "      <td>40.754236</td>\n",
       "      <td>-73.997471</td>\n",
       "      <td>Entire home/apt</td>\n",
       "      <td>150.0</td>\n",
       "      <td>30</td>\n",
       "      <td>0</td>\n",
       "      <td>NaN</td>\n",
       "      <td>NaN</td>\n",
       "      <td>1</td>\n",
       "      <td>365</td>\n",
       "      <td>0</td>\n",
       "      <td>NaN</td>\n",
       "    </tr>\n",
       "  </tbody>\n",
       "</table>\n",
       "<p>37018 rows × 18 columns</p>\n",
       "</div>"
      ],
      "text/plain": [
       "                        id                                               name  \\\n",
       "0                     2539   Superfast Wi-Fi.  Clean & quiet home by the park   \n",
       "1                     2595           Skylit Midtown Manhattan Spacious Studio   \n",
       "2                     5136    Spacious Family Friendly Duplex w/ Patio + Yard   \n",
       "3                     6848                   Only 2 stops to Manhattan studio   \n",
       "4                     6872  Uptown Sanctuary w/ Private Bath (Month to Month)   \n",
       "...                    ...                                                ...   \n",
       "37013  1410167047871626752  1597-4 Brand new Studio Prime UES W/D walk to ...   \n",
       "37014  1410224939829600096                     1 Bedroom near transit/airport   \n",
       "37015  1410271860079756003                           Amazing Room with a view   \n",
       "37016  1410293830168625880                     2 bedrooms apt. Great location   \n",
       "37017  1410301049419283462                       Beautiful large studio in HY   \n",
       "\n",
       "         host_id        host_name neighbourhood_group     neighbourhood  \\\n",
       "0           2787             John            Brooklyn        Kensington   \n",
       "1           2845         Jennifer           Manhattan           Midtown   \n",
       "2           7378          Rebecca            Brooklyn       Sunset Park   \n",
       "3          15991            Allen            Brooklyn      Williamsburg   \n",
       "4          16104        Kahshanna           Manhattan       East Harlem   \n",
       "...          ...              ...                 ...               ...   \n",
       "37013  162280872  Urban Furnished           Manhattan   Upper East Side   \n",
       "37014   80741634         Isidoros              Queens  Ditmars Steinway   \n",
       "37015  493623509           Ramiro           Manhattan    Hell's Kitchen   \n",
       "37016  493623509           Ramiro           Manhattan    Hell's Kitchen   \n",
       "37017   14598000           Daniel           Manhattan    Hell's Kitchen   \n",
       "\n",
       "        latitude  longitude        room_type  price  minimum_nights  \\\n",
       "0      40.645290 -73.972380     Private room    NaN              30   \n",
       "1      40.753560 -73.985590  Entire home/apt  240.0              30   \n",
       "2      40.662650 -73.994540  Entire home/apt  216.0              30   \n",
       "3      40.709350 -73.953420  Entire home/apt   96.0              30   \n",
       "4      40.801070 -73.942550     Private room   59.0              30   \n",
       "...          ...        ...              ...    ...             ...   \n",
       "37013  40.774927 -73.948163  Entire home/apt  188.0              30   \n",
       "37014  40.767953 -73.896711  Entire home/apt  113.0              30   \n",
       "37015  40.763070 -73.987230     Private room  125.0              30   \n",
       "37016  40.763120 -73.987430  Entire home/apt  226.0              30   \n",
       "37017  40.754236 -73.997471  Entire home/apt  150.0              30   \n",
       "\n",
       "       number_of_reviews last_review  reviews_per_month  \\\n",
       "0                      9  2018-10-19               0.08   \n",
       "1                     49  2022-06-21               0.26   \n",
       "2                      4  2023-08-20               0.03   \n",
       "3                    195  2025-04-01               1.00   \n",
       "4                      1  2022-06-05               0.03   \n",
       "...                  ...         ...                ...   \n",
       "37013                  0         NaN                NaN   \n",
       "37014                  0         NaN                NaN   \n",
       "37015                  0         NaN                NaN   \n",
       "37016                  0         NaN                NaN   \n",
       "37017                  0         NaN                NaN   \n",
       "\n",
       "       calculated_host_listings_count  availability_365  \\\n",
       "0                                   5               343   \n",
       "1                                   3               365   \n",
       "2                                   1                37   \n",
       "3                                   1               182   \n",
       "4                                   2                83   \n",
       "...                               ...               ...   \n",
       "37013                             247               273   \n",
       "37014                               1               358   \n",
       "37015                               2               364   \n",
       "37016                               2               364   \n",
       "37017                               1               365   \n",
       "\n",
       "       number_of_reviews_ltm license  \n",
       "0                          0     NaN  \n",
       "1                          0     NaN  \n",
       "2                          0     NaN  \n",
       "3                          4     NaN  \n",
       "4                          0     NaN  \n",
       "...                      ...     ...  \n",
       "37013                      0     NaN  \n",
       "37014                      0     NaN  \n",
       "37015                      0     NaN  \n",
       "37016                      0     NaN  \n",
       "37017                      0     NaN  \n",
       "\n",
       "[37018 rows x 18 columns]"
      ]
     },
     "execution_count": 6,
     "metadata": {},
     "output_type": "execute_result"
    }
   ],
   "source": [
    "data=\"E:/project/listings.csv\"\n",
    "df = pd.read_csv(data)\n",
    "df"
   ]
  },
  {
   "cell_type": "markdown",
   "id": "6fdf8d98-7d87-466c-b3d8-be257b44b0c9",
   "metadata": {},
   "source": [
    "### Columns Description\n",
    "- id - Airbnb's unique identifier for the listing\n",
    "- name - Name of the listing\n",
    "- host_id - Airbnb's unique identifier for the host/user\n",
    "- host_name - Name of the host\n",
    "- neighbourhood - A more specific, localized area within a neighbourhood_group\n",
    "- neighbourhood_group - A broad, top-level grouping of neighborhoods, major administrative zones in a city.\n",
    "- latitude, longitude - Coordinates of the listing\n",
    "- room_type - Entire home, Private room, Shared room, etc.\n",
    "- calculated_host_listings_count - Number of listings by host\n",
    "- availability_365 - Days available in a year\n",
    "- number_of_reviews_ltm - The number of reviews the listing has (in the last 12 months)"
   ]
  },
  {
   "cell_type": "markdown",
   "id": "b48ab797-3677-4fd8-bf5e-1fa2a96e8a16",
   "metadata": {},
   "source": [
    "# Data Exploration"
   ]
  },
  {
   "cell_type": "markdown",
   "id": "6478547e-8fcb-421d-81e0-bc7e06aa6503",
   "metadata": {
    "jp-MarkdownHeadingCollapsed": true
   },
   "source": [
    "### 1. Display first 5 rows"
   ]
  },
  {
   "cell_type": "code",
   "execution_count": 3,
   "id": "d9015027-2ff3-441d-aac9-8e90c669f4da",
   "metadata": {},
   "outputs": [
    {
     "data": {
      "text/html": [
       "<div>\n",
       "<style scoped>\n",
       "    .dataframe tbody tr th:only-of-type {\n",
       "        vertical-align: middle;\n",
       "    }\n",
       "\n",
       "    .dataframe tbody tr th {\n",
       "        vertical-align: top;\n",
       "    }\n",
       "\n",
       "    .dataframe thead th {\n",
       "        text-align: right;\n",
       "    }\n",
       "</style>\n",
       "<table border=\"1\" class=\"dataframe\">\n",
       "  <thead>\n",
       "    <tr style=\"text-align: right;\">\n",
       "      <th></th>\n",
       "      <th>id</th>\n",
       "      <th>name</th>\n",
       "      <th>host_id</th>\n",
       "      <th>host_name</th>\n",
       "      <th>neighbourhood_group</th>\n",
       "      <th>neighbourhood</th>\n",
       "      <th>latitude</th>\n",
       "      <th>longitude</th>\n",
       "      <th>room_type</th>\n",
       "      <th>price</th>\n",
       "      <th>minimum_nights</th>\n",
       "      <th>number_of_reviews</th>\n",
       "      <th>last_review</th>\n",
       "      <th>reviews_per_month</th>\n",
       "      <th>calculated_host_listings_count</th>\n",
       "      <th>availability_365</th>\n",
       "      <th>number_of_reviews_ltm</th>\n",
       "      <th>license</th>\n",
       "      <th>review_scores_rating</th>\n",
       "    </tr>\n",
       "  </thead>\n",
       "  <tbody>\n",
       "    <tr>\n",
       "      <th>0</th>\n",
       "      <td>2539.0</td>\n",
       "      <td>Superfast Wi-Fi.  Clean &amp; quiet home by the park</td>\n",
       "      <td>2787</td>\n",
       "      <td>John</td>\n",
       "      <td>Brooklyn</td>\n",
       "      <td>Kensington</td>\n",
       "      <td>40.64529</td>\n",
       "      <td>-73.97238</td>\n",
       "      <td>Private room</td>\n",
       "      <td>NaN</td>\n",
       "      <td>30</td>\n",
       "      <td>9</td>\n",
       "      <td>19-10-2018</td>\n",
       "      <td>0.08</td>\n",
       "      <td>5</td>\n",
       "      <td>343</td>\n",
       "      <td>0</td>\n",
       "      <td>NaN</td>\n",
       "      <td>4.89</td>\n",
       "    </tr>\n",
       "    <tr>\n",
       "      <th>1</th>\n",
       "      <td>2595.0</td>\n",
       "      <td>Skylit Midtown Manhattan Spacious Studio</td>\n",
       "      <td>2845</td>\n",
       "      <td>Jennifer</td>\n",
       "      <td>Manhattan</td>\n",
       "      <td>Midtown</td>\n",
       "      <td>40.75356</td>\n",
       "      <td>-73.98559</td>\n",
       "      <td>Entire home/apt</td>\n",
       "      <td>240.0</td>\n",
       "      <td>30</td>\n",
       "      <td>49</td>\n",
       "      <td>21-06-2022</td>\n",
       "      <td>0.26</td>\n",
       "      <td>3</td>\n",
       "      <td>365</td>\n",
       "      <td>0</td>\n",
       "      <td>NaN</td>\n",
       "      <td>4.68</td>\n",
       "    </tr>\n",
       "    <tr>\n",
       "      <th>2</th>\n",
       "      <td>5136.0</td>\n",
       "      <td>Spacious Family Friendly Duplex w/ Patio + Yard</td>\n",
       "      <td>7378</td>\n",
       "      <td>Rebecca</td>\n",
       "      <td>Brooklyn</td>\n",
       "      <td>Sunset Park</td>\n",
       "      <td>40.66265</td>\n",
       "      <td>-73.99454</td>\n",
       "      <td>Entire home/apt</td>\n",
       "      <td>216.0</td>\n",
       "      <td>30</td>\n",
       "      <td>4</td>\n",
       "      <td>20-08-2023</td>\n",
       "      <td>0.03</td>\n",
       "      <td>1</td>\n",
       "      <td>37</td>\n",
       "      <td>0</td>\n",
       "      <td>NaN</td>\n",
       "      <td>4.75</td>\n",
       "    </tr>\n",
       "    <tr>\n",
       "      <th>3</th>\n",
       "      <td>6848.0</td>\n",
       "      <td>Only 2 stops to Manhattan studio</td>\n",
       "      <td>15991</td>\n",
       "      <td>Allen</td>\n",
       "      <td>Brooklyn</td>\n",
       "      <td>Williamsburg</td>\n",
       "      <td>40.70935</td>\n",
       "      <td>-73.95342</td>\n",
       "      <td>Entire home/apt</td>\n",
       "      <td>96.0</td>\n",
       "      <td>30</td>\n",
       "      <td>195</td>\n",
       "      <td>01-04-2025</td>\n",
       "      <td>1.00</td>\n",
       "      <td>1</td>\n",
       "      <td>182</td>\n",
       "      <td>4</td>\n",
       "      <td>NaN</td>\n",
       "      <td>4.58</td>\n",
       "    </tr>\n",
       "    <tr>\n",
       "      <th>4</th>\n",
       "      <td>6872.0</td>\n",
       "      <td>Uptown Sanctuary w/ Private Bath (Month to Month)</td>\n",
       "      <td>16104</td>\n",
       "      <td>Kahshanna</td>\n",
       "      <td>Manhattan</td>\n",
       "      <td>East Harlem</td>\n",
       "      <td>40.80107</td>\n",
       "      <td>-73.94255</td>\n",
       "      <td>Private room</td>\n",
       "      <td>59.0</td>\n",
       "      <td>30</td>\n",
       "      <td>1</td>\n",
       "      <td>05-06-2022</td>\n",
       "      <td>0.03</td>\n",
       "      <td>2</td>\n",
       "      <td>83</td>\n",
       "      <td>0</td>\n",
       "      <td>NaN</td>\n",
       "      <td>5.00</td>\n",
       "    </tr>\n",
       "  </tbody>\n",
       "</table>\n",
       "</div>"
      ],
      "text/plain": [
       "       id                                               name  host_id  \\\n",
       "0  2539.0   Superfast Wi-Fi.  Clean & quiet home by the park     2787   \n",
       "1  2595.0           Skylit Midtown Manhattan Spacious Studio     2845   \n",
       "2  5136.0    Spacious Family Friendly Duplex w/ Patio + Yard     7378   \n",
       "3  6848.0                   Only 2 stops to Manhattan studio    15991   \n",
       "4  6872.0  Uptown Sanctuary w/ Private Bath (Month to Month)    16104   \n",
       "\n",
       "   host_name neighbourhood_group neighbourhood  latitude  longitude  \\\n",
       "0       John            Brooklyn    Kensington  40.64529  -73.97238   \n",
       "1   Jennifer           Manhattan       Midtown  40.75356  -73.98559   \n",
       "2    Rebecca            Brooklyn   Sunset Park  40.66265  -73.99454   \n",
       "3      Allen            Brooklyn  Williamsburg  40.70935  -73.95342   \n",
       "4  Kahshanna           Manhattan   East Harlem  40.80107  -73.94255   \n",
       "\n",
       "         room_type  price  minimum_nights  number_of_reviews last_review  \\\n",
       "0     Private room    NaN              30                  9  19-10-2018   \n",
       "1  Entire home/apt  240.0              30                 49  21-06-2022   \n",
       "2  Entire home/apt  216.0              30                  4  20-08-2023   \n",
       "3  Entire home/apt   96.0              30                195  01-04-2025   \n",
       "4     Private room   59.0              30                  1  05-06-2022   \n",
       "\n",
       "   reviews_per_month  calculated_host_listings_count  availability_365  \\\n",
       "0               0.08                               5               343   \n",
       "1               0.26                               3               365   \n",
       "2               0.03                               1                37   \n",
       "3               1.00                               1               182   \n",
       "4               0.03                               2                83   \n",
       "\n",
       "   number_of_reviews_ltm license  review_scores_rating  \n",
       "0                      0     NaN                  4.89  \n",
       "1                      0     NaN                  4.68  \n",
       "2                      0     NaN                  4.75  \n",
       "3                      4     NaN                  4.58  \n",
       "4                      0     NaN                  5.00  "
      ]
     },
     "metadata": {},
     "output_type": "display_data"
    }
   ],
   "source": [
    "display(df.head())"
   ]
  },
  {
   "cell_type": "markdown",
   "id": "4604ac00-3004-4473-a0af-9400bbef2e92",
   "metadata": {},
   "source": [
    "### 2. Display last 3 rows"
   ]
  },
  {
   "cell_type": "code",
   "execution_count": 4,
   "id": "4a34367b-73e2-4391-82ce-193fac9f2da9",
   "metadata": {},
   "outputs": [
    {
     "data": {
      "text/html": [
       "<div>\n",
       "<style scoped>\n",
       "    .dataframe tbody tr th:only-of-type {\n",
       "        vertical-align: middle;\n",
       "    }\n",
       "\n",
       "    .dataframe tbody tr th {\n",
       "        vertical-align: top;\n",
       "    }\n",
       "\n",
       "    .dataframe thead th {\n",
       "        text-align: right;\n",
       "    }\n",
       "</style>\n",
       "<table border=\"1\" class=\"dataframe\">\n",
       "  <thead>\n",
       "    <tr style=\"text-align: right;\">\n",
       "      <th></th>\n",
       "      <th>id</th>\n",
       "      <th>name</th>\n",
       "      <th>host_id</th>\n",
       "      <th>host_name</th>\n",
       "      <th>neighbourhood_group</th>\n",
       "      <th>neighbourhood</th>\n",
       "      <th>latitude</th>\n",
       "      <th>longitude</th>\n",
       "      <th>room_type</th>\n",
       "      <th>price</th>\n",
       "      <th>minimum_nights</th>\n",
       "      <th>number_of_reviews</th>\n",
       "      <th>last_review</th>\n",
       "      <th>reviews_per_month</th>\n",
       "      <th>calculated_host_listings_count</th>\n",
       "      <th>availability_365</th>\n",
       "      <th>number_of_reviews_ltm</th>\n",
       "      <th>license</th>\n",
       "      <th>review_scores_rating</th>\n",
       "    </tr>\n",
       "  </thead>\n",
       "  <tbody>\n",
       "    <tr>\n",
       "      <th>37015</th>\n",
       "      <td>1.410270e+18</td>\n",
       "      <td>Amazing Room with a view</td>\n",
       "      <td>493623509</td>\n",
       "      <td>Ramiro</td>\n",
       "      <td>Manhattan</td>\n",
       "      <td>Hell's Kitchen</td>\n",
       "      <td>40.763070</td>\n",
       "      <td>-73.987230</td>\n",
       "      <td>Private room</td>\n",
       "      <td>125.0</td>\n",
       "      <td>30</td>\n",
       "      <td>0</td>\n",
       "      <td>NaN</td>\n",
       "      <td>NaN</td>\n",
       "      <td>2</td>\n",
       "      <td>364</td>\n",
       "      <td>0</td>\n",
       "      <td>NaN</td>\n",
       "      <td>NaN</td>\n",
       "    </tr>\n",
       "    <tr>\n",
       "      <th>37016</th>\n",
       "      <td>1.410290e+18</td>\n",
       "      <td>2 bedrooms apt. Great location</td>\n",
       "      <td>493623509</td>\n",
       "      <td>Ramiro</td>\n",
       "      <td>Manhattan</td>\n",
       "      <td>Hell's Kitchen</td>\n",
       "      <td>40.763120</td>\n",
       "      <td>-73.987430</td>\n",
       "      <td>Entire home/apt</td>\n",
       "      <td>226.0</td>\n",
       "      <td>30</td>\n",
       "      <td>0</td>\n",
       "      <td>NaN</td>\n",
       "      <td>NaN</td>\n",
       "      <td>2</td>\n",
       "      <td>364</td>\n",
       "      <td>0</td>\n",
       "      <td>NaN</td>\n",
       "      <td>NaN</td>\n",
       "    </tr>\n",
       "    <tr>\n",
       "      <th>37017</th>\n",
       "      <td>1.410300e+18</td>\n",
       "      <td>Beautiful large studio in HY</td>\n",
       "      <td>14598000</td>\n",
       "      <td>Daniel</td>\n",
       "      <td>Manhattan</td>\n",
       "      <td>Hell's Kitchen</td>\n",
       "      <td>40.754236</td>\n",
       "      <td>-73.997471</td>\n",
       "      <td>Entire home/apt</td>\n",
       "      <td>150.0</td>\n",
       "      <td>30</td>\n",
       "      <td>0</td>\n",
       "      <td>NaN</td>\n",
       "      <td>NaN</td>\n",
       "      <td>1</td>\n",
       "      <td>365</td>\n",
       "      <td>0</td>\n",
       "      <td>NaN</td>\n",
       "      <td>NaN</td>\n",
       "    </tr>\n",
       "  </tbody>\n",
       "</table>\n",
       "</div>"
      ],
      "text/plain": [
       "                 id                            name    host_id host_name  \\\n",
       "37015  1.410270e+18        Amazing Room with a view  493623509    Ramiro   \n",
       "37016  1.410290e+18  2 bedrooms apt. Great location  493623509    Ramiro   \n",
       "37017  1.410300e+18    Beautiful large studio in HY   14598000    Daniel   \n",
       "\n",
       "      neighbourhood_group   neighbourhood   latitude  longitude  \\\n",
       "37015           Manhattan  Hell's Kitchen  40.763070 -73.987230   \n",
       "37016           Manhattan  Hell's Kitchen  40.763120 -73.987430   \n",
       "37017           Manhattan  Hell's Kitchen  40.754236 -73.997471   \n",
       "\n",
       "             room_type  price  minimum_nights  number_of_reviews last_review  \\\n",
       "37015     Private room  125.0              30                  0         NaN   \n",
       "37016  Entire home/apt  226.0              30                  0         NaN   \n",
       "37017  Entire home/apt  150.0              30                  0         NaN   \n",
       "\n",
       "       reviews_per_month  calculated_host_listings_count  availability_365  \\\n",
       "37015                NaN                               2               364   \n",
       "37016                NaN                               2               364   \n",
       "37017                NaN                               1               365   \n",
       "\n",
       "       number_of_reviews_ltm license  review_scores_rating  \n",
       "37015                      0     NaN                   NaN  \n",
       "37016                      0     NaN                   NaN  \n",
       "37017                      0     NaN                   NaN  "
      ]
     },
     "metadata": {},
     "output_type": "display_data"
    }
   ],
   "source": [
    "display(df.tail(3))"
   ]
  },
  {
   "cell_type": "markdown",
   "id": "18cb3faa-118f-480b-9bde-475c09dbe42b",
   "metadata": {},
   "source": [
    "### 3. Show dataset shape"
   ]
  },
  {
   "cell_type": "code",
   "execution_count": 5,
   "id": "19a50038-fbb5-40a4-a803-e37d5e1ee03f",
   "metadata": {},
   "outputs": [
    {
     "name": "stdout",
     "output_type": "stream",
     "text": [
      "\n",
      "Dataset shape: (37018, 19)\n"
     ]
    }
   ],
   "source": [
    "print(f\"\\nDataset shape: {df.shape}\")"
   ]
  },
  {
   "cell_type": "markdown",
   "id": "54049290-26d7-4cff-b433-8ba8a6cd5e84",
   "metadata": {},
   "source": [
    "### 4. Get column information"
   ]
  },
  {
   "cell_type": "code",
   "execution_count": 6,
   "id": "20461feb-1a7a-4483-9e7c-4a1026900176",
   "metadata": {},
   "outputs": [
    {
     "name": "stdout",
     "output_type": "stream",
     "text": [
      "<class 'pandas.core.frame.DataFrame'>\n",
      "RangeIndex: 37018 entries, 0 to 37017\n",
      "Data columns (total 19 columns):\n",
      " #   Column                          Non-Null Count  Dtype  \n",
      "---  ------                          --------------  -----  \n",
      " 0   id                              37018 non-null  float64\n",
      " 1   name                            37016 non-null  object \n",
      " 2   host_id                         37018 non-null  int64  \n",
      " 3   host_name                       36993 non-null  object \n",
      " 4   neighbourhood_group             37018 non-null  object \n",
      " 5   neighbourhood                   37018 non-null  object \n",
      " 6   latitude                        37018 non-null  float64\n",
      " 7   longitude                       37018 non-null  float64\n",
      " 8   room_type                       37018 non-null  object \n",
      " 9   price                           21833 non-null  float64\n",
      " 10  minimum_nights                  37018 non-null  int64  \n",
      " 11  number_of_reviews               37018 non-null  int64  \n",
      " 12  last_review                     25358 non-null  object \n",
      " 13  reviews_per_month               25358 non-null  float64\n",
      " 14  calculated_host_listings_count  37018 non-null  int64  \n",
      " 15  availability_365                37018 non-null  int64  \n",
      " 16  number_of_reviews_ltm           37018 non-null  int64  \n",
      " 17  license                         5396 non-null   object \n",
      " 18  review_scores_rating            25358 non-null  float64\n",
      "dtypes: float64(6), int64(6), object(7)\n",
      "memory usage: 5.4+ MB\n"
     ]
    },
    {
     "data": {
      "text/plain": [
       "None"
      ]
     },
     "metadata": {},
     "output_type": "display_data"
    }
   ],
   "source": [
    "display(df.info())"
   ]
  },
  {
   "cell_type": "markdown",
   "id": "18fabb5c-95f3-4b5e-af2b-63e045b25235",
   "metadata": {},
   "source": [
    "### 5. Basic statistics"
   ]
  },
  {
   "cell_type": "code",
   "execution_count": 7,
   "id": "83a14bbd-370e-44e4-96a2-38455219b115",
   "metadata": {},
   "outputs": [
    {
     "data": {
      "text/html": [
       "<div>\n",
       "<style scoped>\n",
       "    .dataframe tbody tr th:only-of-type {\n",
       "        vertical-align: middle;\n",
       "    }\n",
       "\n",
       "    .dataframe tbody tr th {\n",
       "        vertical-align: top;\n",
       "    }\n",
       "\n",
       "    .dataframe thead th {\n",
       "        text-align: right;\n",
       "    }\n",
       "</style>\n",
       "<table border=\"1\" class=\"dataframe\">\n",
       "  <thead>\n",
       "    <tr style=\"text-align: right;\">\n",
       "      <th></th>\n",
       "      <th>id</th>\n",
       "      <th>host_id</th>\n",
       "      <th>latitude</th>\n",
       "      <th>longitude</th>\n",
       "      <th>price</th>\n",
       "      <th>minimum_nights</th>\n",
       "      <th>number_of_reviews</th>\n",
       "      <th>reviews_per_month</th>\n",
       "      <th>calculated_host_listings_count</th>\n",
       "      <th>availability_365</th>\n",
       "      <th>number_of_reviews_ltm</th>\n",
       "      <th>review_scores_rating</th>\n",
       "    </tr>\n",
       "  </thead>\n",
       "  <tbody>\n",
       "    <tr>\n",
       "      <th>count</th>\n",
       "      <td>3.701800e+04</td>\n",
       "      <td>3.701800e+04</td>\n",
       "      <td>37018.000000</td>\n",
       "      <td>37018.000000</td>\n",
       "      <td>21833.000000</td>\n",
       "      <td>37018.000000</td>\n",
       "      <td>37018.000000</td>\n",
       "      <td>25358.000000</td>\n",
       "      <td>37018.000000</td>\n",
       "      <td>37018.000000</td>\n",
       "      <td>37018.000000</td>\n",
       "      <td>25358.000000</td>\n",
       "    </tr>\n",
       "    <tr>\n",
       "      <th>mean</th>\n",
       "      <td>4.372920e+17</td>\n",
       "      <td>1.714205e+08</td>\n",
       "      <td>40.728570</td>\n",
       "      <td>-73.947247</td>\n",
       "      <td>233.896808</td>\n",
       "      <td>29.226025</td>\n",
       "      <td>26.240721</td>\n",
       "      <td>0.819498</td>\n",
       "      <td>72.739802</td>\n",
       "      <td>152.444892</td>\n",
       "      <td>3.966719</td>\n",
       "      <td>4.727934</td>\n",
       "    </tr>\n",
       "    <tr>\n",
       "      <th>std</th>\n",
       "      <td>5.144149e+17</td>\n",
       "      <td>1.888658e+08</td>\n",
       "      <td>0.056333</td>\n",
       "      <td>0.055007</td>\n",
       "      <td>455.382022</td>\n",
       "      <td>35.784675</td>\n",
       "      <td>65.675512</td>\n",
       "      <td>1.851575</td>\n",
       "      <td>235.286250</td>\n",
       "      <td>144.302059</td>\n",
       "      <td>20.022130</td>\n",
       "      <td>0.444155</td>\n",
       "    </tr>\n",
       "    <tr>\n",
       "      <th>min</th>\n",
       "      <td>2.539000e+03</td>\n",
       "      <td>1.678000e+03</td>\n",
       "      <td>40.500366</td>\n",
       "      <td>-74.251907</td>\n",
       "      <td>8.000000</td>\n",
       "      <td>1.000000</td>\n",
       "      <td>0.000000</td>\n",
       "      <td>0.010000</td>\n",
       "      <td>1.000000</td>\n",
       "      <td>0.000000</td>\n",
       "      <td>0.000000</td>\n",
       "      <td>0.000000</td>\n",
       "    </tr>\n",
       "    <tr>\n",
       "      <th>25%</th>\n",
       "      <td>2.140000e+07</td>\n",
       "      <td>1.768211e+07</td>\n",
       "      <td>40.688420</td>\n",
       "      <td>-73.983460</td>\n",
       "      <td>90.000000</td>\n",
       "      <td>30.000000</td>\n",
       "      <td>0.000000</td>\n",
       "      <td>0.080000</td>\n",
       "      <td>1.000000</td>\n",
       "      <td>0.000000</td>\n",
       "      <td>0.000000</td>\n",
       "      <td>4.650000</td>\n",
       "    </tr>\n",
       "    <tr>\n",
       "      <th>50%</th>\n",
       "      <td>5.037505e+07</td>\n",
       "      <td>8.655362e+07</td>\n",
       "      <td>40.726132</td>\n",
       "      <td>-73.955001</td>\n",
       "      <td>150.000000</td>\n",
       "      <td>30.000000</td>\n",
       "      <td>3.000000</td>\n",
       "      <td>0.260000</td>\n",
       "      <td>2.000000</td>\n",
       "      <td>122.000000</td>\n",
       "      <td>0.000000</td>\n",
       "      <td>4.860000</td>\n",
       "    </tr>\n",
       "    <tr>\n",
       "      <th>75%</th>\n",
       "      <td>9.261010e+17</td>\n",
       "      <td>3.036643e+08</td>\n",
       "      <td>40.762271</td>\n",
       "      <td>-73.928302</td>\n",
       "      <td>268.000000</td>\n",
       "      <td>30.000000</td>\n",
       "      <td>22.000000</td>\n",
       "      <td>0.940000</td>\n",
       "      <td>8.000000</td>\n",
       "      <td>296.000000</td>\n",
       "      <td>1.000000</td>\n",
       "      <td>5.000000</td>\n",
       "    </tr>\n",
       "    <tr>\n",
       "      <th>max</th>\n",
       "      <td>1.410920e+18</td>\n",
       "      <td>6.919326e+08</td>\n",
       "      <td>40.912017</td>\n",
       "      <td>-73.711822</td>\n",
       "      <td>20000.000000</td>\n",
       "      <td>1250.000000</td>\n",
       "      <td>3047.000000</td>\n",
       "      <td>120.430000</td>\n",
       "      <td>1225.000000</td>\n",
       "      <td>365.000000</td>\n",
       "      <td>1792.000000</td>\n",
       "      <td>5.000000</td>\n",
       "    </tr>\n",
       "  </tbody>\n",
       "</table>\n",
       "</div>"
      ],
      "text/plain": [
       "                 id       host_id      latitude     longitude         price  \\\n",
       "count  3.701800e+04  3.701800e+04  37018.000000  37018.000000  21833.000000   \n",
       "mean   4.372920e+17  1.714205e+08     40.728570    -73.947247    233.896808   \n",
       "std    5.144149e+17  1.888658e+08      0.056333      0.055007    455.382022   \n",
       "min    2.539000e+03  1.678000e+03     40.500366    -74.251907      8.000000   \n",
       "25%    2.140000e+07  1.768211e+07     40.688420    -73.983460     90.000000   \n",
       "50%    5.037505e+07  8.655362e+07     40.726132    -73.955001    150.000000   \n",
       "75%    9.261010e+17  3.036643e+08     40.762271    -73.928302    268.000000   \n",
       "max    1.410920e+18  6.919326e+08     40.912017    -73.711822  20000.000000   \n",
       "\n",
       "       minimum_nights  number_of_reviews  reviews_per_month  \\\n",
       "count    37018.000000       37018.000000       25358.000000   \n",
       "mean        29.226025          26.240721           0.819498   \n",
       "std         35.784675          65.675512           1.851575   \n",
       "min          1.000000           0.000000           0.010000   \n",
       "25%         30.000000           0.000000           0.080000   \n",
       "50%         30.000000           3.000000           0.260000   \n",
       "75%         30.000000          22.000000           0.940000   \n",
       "max       1250.000000        3047.000000         120.430000   \n",
       "\n",
       "       calculated_host_listings_count  availability_365  \\\n",
       "count                    37018.000000      37018.000000   \n",
       "mean                        72.739802        152.444892   \n",
       "std                        235.286250        144.302059   \n",
       "min                          1.000000          0.000000   \n",
       "25%                          1.000000          0.000000   \n",
       "50%                          2.000000        122.000000   \n",
       "75%                          8.000000        296.000000   \n",
       "max                       1225.000000        365.000000   \n",
       "\n",
       "       number_of_reviews_ltm  review_scores_rating  \n",
       "count           37018.000000          25358.000000  \n",
       "mean                3.966719              4.727934  \n",
       "std                20.022130              0.444155  \n",
       "min                 0.000000              0.000000  \n",
       "25%                 0.000000              4.650000  \n",
       "50%                 0.000000              4.860000  \n",
       "75%                 1.000000              5.000000  \n",
       "max              1792.000000              5.000000  "
      ]
     },
     "metadata": {},
     "output_type": "display_data"
    }
   ],
   "source": [
    "display(df.describe())"
   ]
  },
  {
   "cell_type": "markdown",
   "id": "c1b2c10c-d8eb-4811-829a-a8c364834a36",
   "metadata": {},
   "source": [
    "### 6. Categorical columns statistics"
   ]
  },
  {
   "cell_type": "code",
   "execution_count": 8,
   "id": "0cdf9e86-4399-46be-ba29-a95e84469e1c",
   "metadata": {},
   "outputs": [
    {
     "data": {
      "text/html": [
       "<div>\n",
       "<style scoped>\n",
       "    .dataframe tbody tr th:only-of-type {\n",
       "        vertical-align: middle;\n",
       "    }\n",
       "\n",
       "    .dataframe tbody tr th {\n",
       "        vertical-align: top;\n",
       "    }\n",
       "\n",
       "    .dataframe thead th {\n",
       "        text-align: right;\n",
       "    }\n",
       "</style>\n",
       "<table border=\"1\" class=\"dataframe\">\n",
       "  <thead>\n",
       "    <tr style=\"text-align: right;\">\n",
       "      <th></th>\n",
       "      <th>name</th>\n",
       "      <th>host_name</th>\n",
       "      <th>neighbourhood_group</th>\n",
       "      <th>neighbourhood</th>\n",
       "      <th>room_type</th>\n",
       "      <th>last_review</th>\n",
       "      <th>license</th>\n",
       "    </tr>\n",
       "  </thead>\n",
       "  <tbody>\n",
       "    <tr>\n",
       "      <th>count</th>\n",
       "      <td>37016</td>\n",
       "      <td>36993</td>\n",
       "      <td>37018</td>\n",
       "      <td>37018</td>\n",
       "      <td>37018</td>\n",
       "      <td>25358</td>\n",
       "      <td>5396</td>\n",
       "    </tr>\n",
       "    <tr>\n",
       "      <th>unique</th>\n",
       "      <td>35355</td>\n",
       "      <td>8415</td>\n",
       "      <td>5</td>\n",
       "      <td>224</td>\n",
       "      <td>4</td>\n",
       "      <td>3286</td>\n",
       "      <td>2006</td>\n",
       "    </tr>\n",
       "    <tr>\n",
       "      <th>top</th>\n",
       "      <td>Water View King Bed Hotel Room</td>\n",
       "      <td>Blueground</td>\n",
       "      <td>Manhattan</td>\n",
       "      <td>Bedford-Stuyvesant</td>\n",
       "      <td>Entire home/apt</td>\n",
       "      <td>27-04-2025</td>\n",
       "      <td>Exempt</td>\n",
       "    </tr>\n",
       "    <tr>\n",
       "      <th>freq</th>\n",
       "      <td>30</td>\n",
       "      <td>1225</td>\n",
       "      <td>16480</td>\n",
       "      <td>2647</td>\n",
       "      <td>19924</td>\n",
       "      <td>337</td>\n",
       "      <td>2844</td>\n",
       "    </tr>\n",
       "  </tbody>\n",
       "</table>\n",
       "</div>"
      ],
      "text/plain": [
       "                                  name   host_name neighbourhood_group  \\\n",
       "count                            37016       36993               37018   \n",
       "unique                           35355        8415                   5   \n",
       "top     Water View King Bed Hotel Room  Blueground           Manhattan   \n",
       "freq                                30        1225               16480   \n",
       "\n",
       "             neighbourhood        room_type last_review license  \n",
       "count                37018            37018       25358    5396  \n",
       "unique                 224                4        3286    2006  \n",
       "top     Bedford-Stuyvesant  Entire home/apt  27-04-2025  Exempt  \n",
       "freq                  2647            19924         337    2844  "
      ]
     },
     "metadata": {},
     "output_type": "display_data"
    }
   ],
   "source": [
    "display(df.describe(include=['O']))"
   ]
  },
  {
   "cell_type": "markdown",
   "id": "4f9f831b-442b-464e-a2a3-67534629b5cb",
   "metadata": {},
   "source": [
    "### 7. Check for null values"
   ]
  },
  {
   "cell_type": "code",
   "execution_count": 9,
   "id": "bb05b2e3-ebe1-472c-8e96-6c52c26de513",
   "metadata": {},
   "outputs": [
    {
     "data": {
      "text/plain": [
       "id                                    0\n",
       "name                                  2\n",
       "host_id                               0\n",
       "host_name                            25\n",
       "neighbourhood_group                   0\n",
       "neighbourhood                         0\n",
       "latitude                              0\n",
       "longitude                             0\n",
       "room_type                             0\n",
       "price                             15185\n",
       "minimum_nights                        0\n",
       "number_of_reviews                     0\n",
       "last_review                       11660\n",
       "reviews_per_month                 11660\n",
       "calculated_host_listings_count        0\n",
       "availability_365                      0\n",
       "number_of_reviews_ltm                 0\n",
       "license                           31622\n",
       "review_scores_rating              11660\n",
       "dtype: int64"
      ]
     },
     "metadata": {},
     "output_type": "display_data"
    }
   ],
   "source": [
    "display(df.isnull().sum())"
   ]
  },
  {
   "cell_type": "markdown",
   "id": "604b14ec-d29d-4be6-974d-f6c93073d2a2",
   "metadata": {},
   "source": [
    "### 8. Check data types"
   ]
  },
  {
   "cell_type": "code",
   "execution_count": 10,
   "id": "094d8699-d958-4fef-a7b9-f0452e7846f9",
   "metadata": {},
   "outputs": [
    {
     "data": {
      "text/plain": [
       "id                                float64\n",
       "name                               object\n",
       "host_id                             int64\n",
       "host_name                          object\n",
       "neighbourhood_group                object\n",
       "neighbourhood                      object\n",
       "latitude                          float64\n",
       "longitude                         float64\n",
       "room_type                          object\n",
       "price                             float64\n",
       "minimum_nights                      int64\n",
       "number_of_reviews                   int64\n",
       "last_review                        object\n",
       "reviews_per_month                 float64\n",
       "calculated_host_listings_count      int64\n",
       "availability_365                    int64\n",
       "number_of_reviews_ltm               int64\n",
       "license                            object\n",
       "review_scores_rating              float64\n",
       "dtype: object"
      ]
     },
     "metadata": {},
     "output_type": "display_data"
    }
   ],
   "source": [
    "display(df.dtypes)"
   ]
  },
  {
   "cell_type": "markdown",
   "id": "717d1d49-eaad-4ed3-ba67-14665fb73264",
   "metadata": {},
   "source": [
    "### 9. Unique values in categorical columns"
   ]
  },
  {
   "cell_type": "code",
   "execution_count": 11,
   "id": "8dffb0ac-c6d0-4ed7-ab0b-ba7fbd7600a0",
   "metadata": {},
   "outputs": [
    {
     "name": "stdout",
     "output_type": "stream",
     "text": [
      "id                                34255\n",
      "name                              35355\n",
      "host_id                           21989\n",
      "host_name                          8415\n",
      "neighbourhood_group                   5\n",
      "neighbourhood                       224\n",
      "latitude                          22839\n",
      "longitude                         20655\n",
      "room_type                             4\n",
      "price                              1081\n",
      "minimum_nights                      122\n",
      "number_of_reviews                   492\n",
      "last_review                        3286\n",
      "reviews_per_month                   788\n",
      "calculated_host_listings_count       69\n",
      "availability_365                    366\n",
      "number_of_reviews_ltm               176\n",
      "license                            2006\n",
      "review_scores_rating                159\n",
      "dtype: int64\n"
     ]
    }
   ],
   "source": [
    "print(df.nunique())"
   ]
  },
  {
   "cell_type": "markdown",
   "id": "5f3a52b3-ddc2-429f-9fd6-9929be4280e2",
   "metadata": {},
   "source": [
    "### 10. Correlation matrix"
   ]
  },
  {
   "cell_type": "code",
   "execution_count": 12,
   "id": "0fad0ef7-4bed-4c0d-8f11-3d8182fb1efd",
   "metadata": {},
   "outputs": [
    {
     "data": {
      "text/html": [
       "<div>\n",
       "<style scoped>\n",
       "    .dataframe tbody tr th:only-of-type {\n",
       "        vertical-align: middle;\n",
       "    }\n",
       "\n",
       "    .dataframe tbody tr th {\n",
       "        vertical-align: top;\n",
       "    }\n",
       "\n",
       "    .dataframe thead th {\n",
       "        text-align: right;\n",
       "    }\n",
       "</style>\n",
       "<table border=\"1\" class=\"dataframe\">\n",
       "  <thead>\n",
       "    <tr style=\"text-align: right;\">\n",
       "      <th></th>\n",
       "      <th>id</th>\n",
       "      <th>host_id</th>\n",
       "      <th>latitude</th>\n",
       "      <th>longitude</th>\n",
       "      <th>price</th>\n",
       "      <th>minimum_nights</th>\n",
       "      <th>number_of_reviews</th>\n",
       "      <th>reviews_per_month</th>\n",
       "      <th>calculated_host_listings_count</th>\n",
       "      <th>availability_365</th>\n",
       "      <th>number_of_reviews_ltm</th>\n",
       "      <th>review_scores_rating</th>\n",
       "    </tr>\n",
       "  </thead>\n",
       "  <tbody>\n",
       "    <tr>\n",
       "      <th>id</th>\n",
       "      <td>1.000000</td>\n",
       "      <td>0.489480</td>\n",
       "      <td>0.008929</td>\n",
       "      <td>0.015921</td>\n",
       "      <td>0.061215</td>\n",
       "      <td>-0.077452</td>\n",
       "      <td>-0.197643</td>\n",
       "      <td>0.186758</td>\n",
       "      <td>0.216110</td>\n",
       "      <td>0.390764</td>\n",
       "      <td>0.070841</td>\n",
       "      <td>-0.046820</td>\n",
       "    </tr>\n",
       "    <tr>\n",
       "      <th>host_id</th>\n",
       "      <td>0.489480</td>\n",
       "      <td>1.000000</td>\n",
       "      <td>0.015943</td>\n",
       "      <td>0.093230</td>\n",
       "      <td>0.034354</td>\n",
       "      <td>-0.092852</td>\n",
       "      <td>-0.057409</td>\n",
       "      <td>0.221177</td>\n",
       "      <td>-0.054234</td>\n",
       "      <td>0.254733</td>\n",
       "      <td>0.111912</td>\n",
       "      <td>-0.037698</td>\n",
       "    </tr>\n",
       "    <tr>\n",
       "      <th>latitude</th>\n",
       "      <td>0.008929</td>\n",
       "      <td>0.015943</td>\n",
       "      <td>1.000000</td>\n",
       "      <td>0.040665</td>\n",
       "      <td>0.045588</td>\n",
       "      <td>0.015865</td>\n",
       "      <td>-0.050912</td>\n",
       "      <td>-0.042760</td>\n",
       "      <td>0.046388</td>\n",
       "      <td>-0.020210</td>\n",
       "      <td>-0.027530</td>\n",
       "      <td>0.004780</td>\n",
       "    </tr>\n",
       "    <tr>\n",
       "      <th>longitude</th>\n",
       "      <td>0.015921</td>\n",
       "      <td>0.093230</td>\n",
       "      <td>0.040665</td>\n",
       "      <td>1.000000</td>\n",
       "      <td>-0.133087</td>\n",
       "      <td>0.012915</td>\n",
       "      <td>0.043324</td>\n",
       "      <td>0.033726</td>\n",
       "      <td>-0.124029</td>\n",
       "      <td>0.060144</td>\n",
       "      <td>0.011740</td>\n",
       "      <td>0.009373</td>\n",
       "    </tr>\n",
       "    <tr>\n",
       "      <th>price</th>\n",
       "      <td>0.061215</td>\n",
       "      <td>0.034354</td>\n",
       "      <td>0.045588</td>\n",
       "      <td>-0.133087</td>\n",
       "      <td>1.000000</td>\n",
       "      <td>-0.043204</td>\n",
       "      <td>-0.043180</td>\n",
       "      <td>0.022526</td>\n",
       "      <td>0.089464</td>\n",
       "      <td>0.033993</td>\n",
       "      <td>-0.002822</td>\n",
       "      <td>0.007564</td>\n",
       "    </tr>\n",
       "    <tr>\n",
       "      <th>minimum_nights</th>\n",
       "      <td>-0.077452</td>\n",
       "      <td>-0.092852</td>\n",
       "      <td>0.015865</td>\n",
       "      <td>0.012915</td>\n",
       "      <td>-0.043204</td>\n",
       "      <td>1.000000</td>\n",
       "      <td>-0.087165</td>\n",
       "      <td>-0.148746</td>\n",
       "      <td>0.004432</td>\n",
       "      <td>0.004524</td>\n",
       "      <td>-0.131207</td>\n",
       "      <td>0.003793</td>\n",
       "    </tr>\n",
       "    <tr>\n",
       "      <th>number_of_reviews</th>\n",
       "      <td>-0.197643</td>\n",
       "      <td>-0.057409</td>\n",
       "      <td>-0.050912</td>\n",
       "      <td>0.043324</td>\n",
       "      <td>-0.043180</td>\n",
       "      <td>-0.087165</td>\n",
       "      <td>1.000000</td>\n",
       "      <td>0.711998</td>\n",
       "      <td>-0.112638</td>\n",
       "      <td>0.053425</td>\n",
       "      <td>0.595407</td>\n",
       "      <td>0.007188</td>\n",
       "    </tr>\n",
       "    <tr>\n",
       "      <th>reviews_per_month</th>\n",
       "      <td>0.186758</td>\n",
       "      <td>0.221177</td>\n",
       "      <td>-0.042760</td>\n",
       "      <td>0.033726</td>\n",
       "      <td>0.022526</td>\n",
       "      <td>-0.148746</td>\n",
       "      <td>0.711998</td>\n",
       "      <td>1.000000</td>\n",
       "      <td>-0.057069</td>\n",
       "      <td>0.137056</td>\n",
       "      <td>0.887188</td>\n",
       "      <td>-0.013521</td>\n",
       "    </tr>\n",
       "    <tr>\n",
       "      <th>calculated_host_listings_count</th>\n",
       "      <td>0.216110</td>\n",
       "      <td>-0.054234</td>\n",
       "      <td>0.046388</td>\n",
       "      <td>-0.124029</td>\n",
       "      <td>0.089464</td>\n",
       "      <td>0.004432</td>\n",
       "      <td>-0.112638</td>\n",
       "      <td>-0.057069</td>\n",
       "      <td>1.000000</td>\n",
       "      <td>0.194567</td>\n",
       "      <td>-0.051627</td>\n",
       "      <td>-0.006876</td>\n",
       "    </tr>\n",
       "    <tr>\n",
       "      <th>availability_365</th>\n",
       "      <td>0.390764</td>\n",
       "      <td>0.254733</td>\n",
       "      <td>-0.020210</td>\n",
       "      <td>0.060144</td>\n",
       "      <td>0.033993</td>\n",
       "      <td>0.004524</td>\n",
       "      <td>0.053425</td>\n",
       "      <td>0.137056</td>\n",
       "      <td>0.194567</td>\n",
       "      <td>1.000000</td>\n",
       "      <td>0.060857</td>\n",
       "      <td>-0.017775</td>\n",
       "    </tr>\n",
       "    <tr>\n",
       "      <th>number_of_reviews_ltm</th>\n",
       "      <td>0.070841</td>\n",
       "      <td>0.111912</td>\n",
       "      <td>-0.027530</td>\n",
       "      <td>0.011740</td>\n",
       "      <td>-0.002822</td>\n",
       "      <td>-0.131207</td>\n",
       "      <td>0.595407</td>\n",
       "      <td>0.887188</td>\n",
       "      <td>-0.051627</td>\n",
       "      <td>0.060857</td>\n",
       "      <td>1.000000</td>\n",
       "      <td>-0.011455</td>\n",
       "    </tr>\n",
       "    <tr>\n",
       "      <th>review_scores_rating</th>\n",
       "      <td>-0.046820</td>\n",
       "      <td>-0.037698</td>\n",
       "      <td>0.004780</td>\n",
       "      <td>0.009373</td>\n",
       "      <td>0.007564</td>\n",
       "      <td>0.003793</td>\n",
       "      <td>0.007188</td>\n",
       "      <td>-0.013521</td>\n",
       "      <td>-0.006876</td>\n",
       "      <td>-0.017775</td>\n",
       "      <td>-0.011455</td>\n",
       "      <td>1.000000</td>\n",
       "    </tr>\n",
       "  </tbody>\n",
       "</table>\n",
       "</div>"
      ],
      "text/plain": [
       "                                      id   host_id  latitude  longitude  \\\n",
       "id                              1.000000  0.489480  0.008929   0.015921   \n",
       "host_id                         0.489480  1.000000  0.015943   0.093230   \n",
       "latitude                        0.008929  0.015943  1.000000   0.040665   \n",
       "longitude                       0.015921  0.093230  0.040665   1.000000   \n",
       "price                           0.061215  0.034354  0.045588  -0.133087   \n",
       "minimum_nights                 -0.077452 -0.092852  0.015865   0.012915   \n",
       "number_of_reviews              -0.197643 -0.057409 -0.050912   0.043324   \n",
       "reviews_per_month               0.186758  0.221177 -0.042760   0.033726   \n",
       "calculated_host_listings_count  0.216110 -0.054234  0.046388  -0.124029   \n",
       "availability_365                0.390764  0.254733 -0.020210   0.060144   \n",
       "number_of_reviews_ltm           0.070841  0.111912 -0.027530   0.011740   \n",
       "review_scores_rating           -0.046820 -0.037698  0.004780   0.009373   \n",
       "\n",
       "                                   price  minimum_nights  number_of_reviews  \\\n",
       "id                              0.061215       -0.077452          -0.197643   \n",
       "host_id                         0.034354       -0.092852          -0.057409   \n",
       "latitude                        0.045588        0.015865          -0.050912   \n",
       "longitude                      -0.133087        0.012915           0.043324   \n",
       "price                           1.000000       -0.043204          -0.043180   \n",
       "minimum_nights                 -0.043204        1.000000          -0.087165   \n",
       "number_of_reviews              -0.043180       -0.087165           1.000000   \n",
       "reviews_per_month               0.022526       -0.148746           0.711998   \n",
       "calculated_host_listings_count  0.089464        0.004432          -0.112638   \n",
       "availability_365                0.033993        0.004524           0.053425   \n",
       "number_of_reviews_ltm          -0.002822       -0.131207           0.595407   \n",
       "review_scores_rating            0.007564        0.003793           0.007188   \n",
       "\n",
       "                                reviews_per_month  \\\n",
       "id                                       0.186758   \n",
       "host_id                                  0.221177   \n",
       "latitude                                -0.042760   \n",
       "longitude                                0.033726   \n",
       "price                                    0.022526   \n",
       "minimum_nights                          -0.148746   \n",
       "number_of_reviews                        0.711998   \n",
       "reviews_per_month                        1.000000   \n",
       "calculated_host_listings_count          -0.057069   \n",
       "availability_365                         0.137056   \n",
       "number_of_reviews_ltm                    0.887188   \n",
       "review_scores_rating                    -0.013521   \n",
       "\n",
       "                                calculated_host_listings_count  \\\n",
       "id                                                    0.216110   \n",
       "host_id                                              -0.054234   \n",
       "latitude                                              0.046388   \n",
       "longitude                                            -0.124029   \n",
       "price                                                 0.089464   \n",
       "minimum_nights                                        0.004432   \n",
       "number_of_reviews                                    -0.112638   \n",
       "reviews_per_month                                    -0.057069   \n",
       "calculated_host_listings_count                        1.000000   \n",
       "availability_365                                      0.194567   \n",
       "number_of_reviews_ltm                                -0.051627   \n",
       "review_scores_rating                                 -0.006876   \n",
       "\n",
       "                                availability_365  number_of_reviews_ltm  \\\n",
       "id                                      0.390764               0.070841   \n",
       "host_id                                 0.254733               0.111912   \n",
       "latitude                               -0.020210              -0.027530   \n",
       "longitude                               0.060144               0.011740   \n",
       "price                                   0.033993              -0.002822   \n",
       "minimum_nights                          0.004524              -0.131207   \n",
       "number_of_reviews                       0.053425               0.595407   \n",
       "reviews_per_month                       0.137056               0.887188   \n",
       "calculated_host_listings_count          0.194567              -0.051627   \n",
       "availability_365                        1.000000               0.060857   \n",
       "number_of_reviews_ltm                   0.060857               1.000000   \n",
       "review_scores_rating                   -0.017775              -0.011455   \n",
       "\n",
       "                                review_scores_rating  \n",
       "id                                         -0.046820  \n",
       "host_id                                    -0.037698  \n",
       "latitude                                    0.004780  \n",
       "longitude                                   0.009373  \n",
       "price                                       0.007564  \n",
       "minimum_nights                              0.003793  \n",
       "number_of_reviews                           0.007188  \n",
       "reviews_per_month                          -0.013521  \n",
       "calculated_host_listings_count             -0.006876  \n",
       "availability_365                           -0.017775  \n",
       "number_of_reviews_ltm                      -0.011455  \n",
       "review_scores_rating                        1.000000  "
      ]
     },
     "metadata": {},
     "output_type": "display_data"
    }
   ],
   "source": [
    "display(df.select_dtypes(include=['float64', 'int64']).corr())"
   ]
  },
  {
   "cell_type": "markdown",
   "id": "ccd08dcc-b56e-483e-859b-a9cbd38fea9e",
   "metadata": {},
   "source": [
    "### 11. Drop unnecessary columns"
   ]
  },
  {
   "cell_type": "code",
   "execution_count": 13,
   "id": "e942d4ea-2afc-49f5-9c69-27a42fce75e5",
   "metadata": {},
   "outputs": [],
   "source": [
    "df.drop(['license', 'house_rules'], axis=1, inplace=True, errors='ignore')"
   ]
  },
  {
   "cell_type": "markdown",
   "id": "10161dff-030d-433c-a21f-920e82b7690f",
   "metadata": {},
   "source": [
    "### 12. Fill missing values"
   ]
  },
  {
   "cell_type": "code",
   "execution_count": 14,
   "id": "9bb639a4-2519-4943-8db2-5ea8b12b3a6d",
   "metadata": {},
   "outputs": [],
   "source": [
    "df['reviews_per_month'] = df['reviews_per_month'].fillna(0)\n",
    "df['name'] = df['name'].fillna('Unknown')\n",
    "df['host_name'] = df['host_name'].fillna('Unknown')"
   ]
  },
  {
   "cell_type": "markdown",
   "id": "d9833382-4d16-4f10-938d-e9f9d5a45c46",
   "metadata": {},
   "source": [
    "### 13. Convert price to float"
   ]
  },
  {
   "cell_type": "code",
   "execution_count": 15,
   "id": "8cc80673-d9a4-449b-be56-826f75a44bdb",
   "metadata": {},
   "outputs": [],
   "source": [
    "df['price'] = df['price'].replace(r'[\\$,]', '', regex=True).astype(float)"
   ]
  },
  {
   "cell_type": "markdown",
   "id": "74529b5e-c744-4f06-b619-c4505730059e",
   "metadata": {},
   "source": [
    "### 14. Create new feature: room_type_category"
   ]
  },
  {
   "cell_type": "code",
   "execution_count": 16,
   "id": "9773ea4c-dc63-4c4a-a9b7-d73dc4ce49a8",
   "metadata": {},
   "outputs": [],
   "source": [
    "df['room_type_category'] = df['room_type'].apply(lambda x: 'Private' if 'Private' in x else 'Shared' if 'Shared' in x else 'Entire')"
   ]
  },
  {
   "cell_type": "markdown",
   "id": "be1ced93-0067-46c3-bdd0-3b2cb27c74aa",
   "metadata": {},
   "source": [
    "### 15. Create price categories"
   ]
  },
  {
   "cell_type": "code",
   "execution_count": 17,
   "id": "dcfb03fc-851b-4c23-914d-f6a3e9074712",
   "metadata": {},
   "outputs": [],
   "source": [
    "df['price_category'] = pd.cut(df['price'],bins=[0, 100, 200, 500, 1000, 10000],labels=['Budget', 'Economy', 'Standard', 'Premium', 'Luxury'])"
   ]
  },
  {
   "cell_type": "markdown",
   "id": "95640494-00fd-4ac5-bb62-e825c8d65731",
   "metadata": {},
   "source": [
    "### 16. Convert last_review to datetime"
   ]
  },
  {
   "cell_type": "code",
   "execution_count": 18,
   "id": "6fe57660-61b5-4254-92ca-13d7234f6790",
   "metadata": {},
   "outputs": [],
   "source": [
    "df['last_review'] = pd.to_datetime(df['last_review'],dayfirst=True)"
   ]
  },
  {
   "cell_type": "markdown",
   "id": "13719e22-b317-433d-a0f1-42af5cbded0e",
   "metadata": {},
   "source": [
    "### 17. Extract month from date"
   ]
  },
  {
   "cell_type": "code",
   "execution_count": 19,
   "id": "e6a84926-d049-4f62-aacc-4235e20b92e5",
   "metadata": {},
   "outputs": [],
   "source": [
    "df['review_month'] = df['last_review'].dt.month_name()"
   ]
  },
  {
   "cell_type": "markdown",
   "id": "347b7de5-fc8b-4968-8d18-3479455d0d82",
   "metadata": {},
   "source": [
    "### 18. Handle outliers in price"
   ]
  },
  {
   "cell_type": "code",
   "execution_count": 20,
   "id": "cc27455b-8704-421e-8820-46b0701a3edf",
   "metadata": {},
   "outputs": [],
   "source": [
    "q1 = df['price'].quantile(0.25)\n",
    "q3 = df['price'].quantile(0.75)\n",
    "iqr = q3 - q1\n",
    "df = df[(df['price'] >= q1 - 1.5*iqr) & (df['price'] <= q3 + 1.5*iqr)]"
   ]
  },
  {
   "cell_type": "markdown",
   "id": "05d3a710-e0e1-4564-b194-8a1e65ca3f32",
   "metadata": {},
   "source": [
    "### 19. Log transform price\n"
   ]
  },
  {
   "cell_type": "code",
   "execution_count": 21,
   "id": "e9da42a4-db51-4cc0-8f1f-2bf333a0558a",
   "metadata": {},
   "outputs": [],
   "source": [
    "df = df.copy()\n",
    "df['log_price'] = np.log1p(df['price'])"
   ]
  },
  {
   "cell_type": "markdown",
   "id": "0963527d-c227-4b78-9214-3802f24450fa",
   "metadata": {},
   "source": [
    "### 20. Create availability status"
   ]
  },
  {
   "cell_type": "code",
   "execution_count": 22,
   "id": "7d8b1219-97fc-4f25-ba8f-33d65bd0d104",
   "metadata": {},
   "outputs": [],
   "source": [
    "df = df.copy()\n",
    "df['availability_status'] = df['availability_365'].apply(lambda x: 'High' if x > 200 else 'Medium' if x > 100 else 'Low')"
   ]
  },
  {
   "cell_type": "markdown",
   "id": "a581fe88-c182-4a26-9247-6366150d8fb9",
   "metadata": {},
   "source": [
    "# Data Analysis Queries\n"
   ]
  },
  {
   "cell_type": "markdown",
   "id": "2043d463-0741-44ec-aab2-5200fa58fa78",
   "metadata": {},
   "source": [
    "### 21. Most expensive neighborhoods\n"
   ]
  },
  {
   "cell_type": "code",
   "execution_count": 23,
   "id": "273f79cb-e4dd-43fd-9388-adc772461699",
   "metadata": {},
   "outputs": [
    {
     "name": "stdout",
     "output_type": "stream",
     "text": [
      "Top 5 expensive neighborhoods:\n"
     ]
    },
    {
     "data": {
      "text/plain": [
       "neighbourhood_group\n",
       "Manhattan        222.907630\n",
       "Brooklyn         148.597839\n",
       "Queens           128.003712\n",
       "Staten Island    109.741935\n",
       "Bronx            108.931691\n",
       "Name: price, dtype: float64"
      ]
     },
     "metadata": {},
     "output_type": "display_data"
    }
   ],
   "source": [
    "top_5_expensive = df.groupby('neighbourhood_group')['price'].mean().nlargest(5)\n",
    "print(\"Top 5 expensive neighborhoods:\")\n",
    "display(top_5_expensive)"
   ]
  },
  {
   "cell_type": "markdown",
   "id": "076df5eb-35a4-4019-ba02-84c93f7f3f03",
   "metadata": {},
   "source": [
    "### 22. Cheapest neighborhoods"
   ]
  },
  {
   "cell_type": "code",
   "execution_count": 24,
   "id": "7e7806b2-be80-4a05-8050-1c08a8117afc",
   "metadata": {},
   "outputs": [
    {
     "name": "stdout",
     "output_type": "stream",
     "text": [
      "\n",
      "Top 10 cheapest neighborhoods:\n"
     ]
    },
    {
     "data": {
      "text/plain": [
       "neighbourhood_group\n",
       "Bronx            108.931691\n",
       "Staten Island    109.741935\n",
       "Queens           128.003712\n",
       "Brooklyn         148.597839\n",
       "Manhattan        222.907630\n",
       "Name: price, dtype: float64"
      ]
     },
     "metadata": {},
     "output_type": "display_data"
    }
   ],
   "source": [
    "top_10_cheapest = df.groupby('neighbourhood_group')['price'].mean().nsmallest(10)\n",
    "print(\"\\nTop 10 cheapest neighborhoods:\")\n",
    "display(top_10_cheapest)"
   ]
  },
  {
   "cell_type": "markdown",
   "id": "78d9cb60-0f27-4e98-b28f-8a439c3dd742",
   "metadata": {},
   "source": [
    "### 23. Most reviewed listings"
   ]
  },
  {
   "cell_type": "code",
   "execution_count": 25,
   "id": "86a7f844-ac9f-4ca8-aecc-c6cf8eaf77d2",
   "metadata": {},
   "outputs": [
    {
     "name": "stdout",
     "output_type": "stream",
     "text": [
      "\n",
      "Most reviewed listings:\n"
     ]
    },
    {
     "data": {
      "text/html": [
       "<div>\n",
       "<style scoped>\n",
       "    .dataframe tbody tr th:only-of-type {\n",
       "        vertical-align: middle;\n",
       "    }\n",
       "\n",
       "    .dataframe tbody tr th {\n",
       "        vertical-align: top;\n",
       "    }\n",
       "\n",
       "    .dataframe thead th {\n",
       "        text-align: right;\n",
       "    }\n",
       "</style>\n",
       "<table border=\"1\" class=\"dataframe\">\n",
       "  <thead>\n",
       "    <tr style=\"text-align: right;\">\n",
       "      <th></th>\n",
       "      <th>name</th>\n",
       "      <th>number_of_reviews</th>\n",
       "      <th>neighbourhood</th>\n",
       "    </tr>\n",
       "  </thead>\n",
       "  <tbody>\n",
       "    <tr>\n",
       "      <th>26493</th>\n",
       "      <td>Safe and Cozy Hostel Room, 1 person, Manhattan</td>\n",
       "      <td>3047</td>\n",
       "      <td>Chelsea</td>\n",
       "    </tr>\n",
       "    <tr>\n",
       "      <th>21199</th>\n",
       "      <td>Individual Cubicle Room in NYC/Mixed Floor</td>\n",
       "      <td>2500</td>\n",
       "      <td>Chelsea</td>\n",
       "    </tr>\n",
       "    <tr>\n",
       "      <th>19030</th>\n",
       "      <td>Untitled at 3 Freeman - Studio Queen</td>\n",
       "      <td>2065</td>\n",
       "      <td>Lower East Side</td>\n",
       "    </tr>\n",
       "    <tr>\n",
       "      <th>13920</th>\n",
       "      <td>Amazing Micro Unit W/ communal rooftop and kit...</td>\n",
       "      <td>1954</td>\n",
       "      <td>East Village</td>\n",
       "    </tr>\n",
       "    <tr>\n",
       "      <th>22725</th>\n",
       "      <td>SoHo View Room (Full-Size Bed) in Hotel Comfort</td>\n",
       "      <td>1809</td>\n",
       "      <td>Chinatown</td>\n",
       "    </tr>\n",
       "  </tbody>\n",
       "</table>\n",
       "</div>"
      ],
      "text/plain": [
       "                                                    name  number_of_reviews  \\\n",
       "26493     Safe and Cozy Hostel Room, 1 person, Manhattan               3047   \n",
       "21199         Individual Cubicle Room in NYC/Mixed Floor               2500   \n",
       "19030               Untitled at 3 Freeman - Studio Queen               2065   \n",
       "13920  Amazing Micro Unit W/ communal rooftop and kit...               1954   \n",
       "22725    SoHo View Room (Full-Size Bed) in Hotel Comfort               1809   \n",
       "\n",
       "         neighbourhood  \n",
       "26493          Chelsea  \n",
       "21199          Chelsea  \n",
       "19030  Lower East Side  \n",
       "13920     East Village  \n",
       "22725        Chinatown  "
      ]
     },
     "metadata": {},
     "output_type": "display_data"
    }
   ],
   "source": [
    "most_reviewed = df.nlargest(5, 'number_of_reviews')[['name', 'number_of_reviews', 'neighbourhood']]\n",
    "print(\"\\nMost reviewed listings:\")\n",
    "display(most_reviewed)"
   ]
  },
  {
   "cell_type": "markdown",
   "id": "e55976a2-3ddb-4aab-bfee-7277d9b4a554",
   "metadata": {},
   "source": [
    "### 24. Highest rated hosts"
   ]
  },
  {
   "cell_type": "code",
   "execution_count": 26,
   "id": "9d6b54a4-b235-417e-8700-8e493a4c4067",
   "metadata": {},
   "outputs": [
    {
     "name": "stdout",
     "output_type": "stream",
     "text": [
      "\n",
      "Highest rated hosts:\n"
     ]
    },
    {
     "data": {
      "text/html": [
       "<div>\n",
       "<style scoped>\n",
       "    .dataframe tbody tr th:only-of-type {\n",
       "        vertical-align: middle;\n",
       "    }\n",
       "\n",
       "    .dataframe tbody tr th {\n",
       "        vertical-align: top;\n",
       "    }\n",
       "\n",
       "    .dataframe thead th {\n",
       "        text-align: right;\n",
       "    }\n",
       "</style>\n",
       "<table border=\"1\" class=\"dataframe\">\n",
       "  <thead>\n",
       "    <tr style=\"text-align: right;\">\n",
       "      <th></th>\n",
       "      <th>avg_rating</th>\n",
       "      <th>listing_count</th>\n",
       "    </tr>\n",
       "    <tr>\n",
       "      <th>host_name</th>\n",
       "      <th></th>\n",
       "      <th></th>\n",
       "    </tr>\n",
       "  </thead>\n",
       "  <tbody>\n",
       "    <tr>\n",
       "      <th>Candlewood Suites Times Square New York City</th>\n",
       "      <td>47.010000</td>\n",
       "      <td>1</td>\n",
       "    </tr>\n",
       "    <tr>\n",
       "      <th>Alfred</th>\n",
       "      <td>41.803333</td>\n",
       "      <td>3</td>\n",
       "    </tr>\n",
       "    <tr>\n",
       "      <th>Alex And Zeena</th>\n",
       "      <td>33.275000</td>\n",
       "      <td>2</td>\n",
       "    </tr>\n",
       "    <tr>\n",
       "      <th>OYO Times Square New York City</th>\n",
       "      <td>22.440000</td>\n",
       "      <td>1</td>\n",
       "    </tr>\n",
       "    <tr>\n",
       "      <th>Times Square South New York City</th>\n",
       "      <td>21.630000</td>\n",
       "      <td>2</td>\n",
       "    </tr>\n",
       "  </tbody>\n",
       "</table>\n",
       "</div>"
      ],
      "text/plain": [
       "                                              avg_rating  listing_count\n",
       "host_name                                                              \n",
       "Candlewood Suites Times Square New York City   47.010000              1\n",
       "Alfred                                         41.803333              3\n",
       "Alex And Zeena                                 33.275000              2\n",
       "OYO Times Square New York City                 22.440000              1\n",
       "Times Square South New York City               21.630000              2"
      ]
     },
     "metadata": {},
     "output_type": "display_data"
    }
   ],
   "source": [
    "top_hosts = df.groupby('host_name').agg(avg_rating=('reviews_per_month', 'mean'), listing_count=('id', 'count')).nlargest(5, 'avg_rating')\n",
    "print(\"\\nHighest rated hosts:\")\n",
    "display(top_hosts)"
   ]
  },
  {
   "cell_type": "markdown",
   "id": "62d975ba-b897-442c-ba02-c7e4de16bb80",
   "metadata": {},
   "source": [
    "### 25. Room type distribution by borough"
   ]
  },
  {
   "cell_type": "code",
   "execution_count": 27,
   "id": "1269ad37-4d52-4d5e-ada8-554293f57c76",
   "metadata": {},
   "outputs": [
    {
     "name": "stdout",
     "output_type": "stream",
     "text": [
      "\n",
      "Room type distribution by borough:\n"
     ]
    },
    {
     "data": {
      "text/html": [
       "<div>\n",
       "<style scoped>\n",
       "    .dataframe tbody tr th:only-of-type {\n",
       "        vertical-align: middle;\n",
       "    }\n",
       "\n",
       "    .dataframe tbody tr th {\n",
       "        vertical-align: top;\n",
       "    }\n",
       "\n",
       "    .dataframe thead th {\n",
       "        text-align: right;\n",
       "    }\n",
       "</style>\n",
       "<table border=\"1\" class=\"dataframe\">\n",
       "  <thead>\n",
       "    <tr style=\"text-align: right;\">\n",
       "      <th>room_type</th>\n",
       "      <th>Entire home/apt</th>\n",
       "      <th>Hotel room</th>\n",
       "      <th>Private room</th>\n",
       "      <th>Shared room</th>\n",
       "    </tr>\n",
       "    <tr>\n",
       "      <th>neighbourhood_group</th>\n",
       "      <th></th>\n",
       "      <th></th>\n",
       "      <th></th>\n",
       "      <th></th>\n",
       "    </tr>\n",
       "  </thead>\n",
       "  <tbody>\n",
       "    <tr>\n",
       "      <th>Bronx</th>\n",
       "      <td>372</td>\n",
       "      <td>0</td>\n",
       "      <td>521</td>\n",
       "      <td>0</td>\n",
       "    </tr>\n",
       "    <tr>\n",
       "      <th>Brooklyn</th>\n",
       "      <td>3571</td>\n",
       "      <td>6</td>\n",
       "      <td>3680</td>\n",
       "      <td>56</td>\n",
       "    </tr>\n",
       "    <tr>\n",
       "      <th>Manhattan</th>\n",
       "      <td>5939</td>\n",
       "      <td>207</td>\n",
       "      <td>2475</td>\n",
       "      <td>29</td>\n",
       "    </tr>\n",
       "    <tr>\n",
       "      <th>Queens</th>\n",
       "      <td>1419</td>\n",
       "      <td>7</td>\n",
       "      <td>1777</td>\n",
       "      <td>30</td>\n",
       "    </tr>\n",
       "    <tr>\n",
       "      <th>Staten Island</th>\n",
       "      <td>152</td>\n",
       "      <td>0</td>\n",
       "      <td>156</td>\n",
       "      <td>2</td>\n",
       "    </tr>\n",
       "  </tbody>\n",
       "</table>\n",
       "</div>"
      ],
      "text/plain": [
       "room_type            Entire home/apt  Hotel room  Private room  Shared room\n",
       "neighbourhood_group                                                        \n",
       "Bronx                            372           0           521            0\n",
       "Brooklyn                        3571           6          3680           56\n",
       "Manhattan                       5939         207          2475           29\n",
       "Queens                          1419           7          1777           30\n",
       "Staten Island                    152           0           156            2"
      ]
     },
     "metadata": {},
     "output_type": "display_data"
    }
   ],
   "source": [
    "roomtype_by_borough = pd.crosstab(df['neighbourhood_group'], df['room_type'])\n",
    "print(\"\\nRoom type distribution by borough:\")\n",
    "display(roomtype_by_borough)"
   ]
  },
  {
   "cell_type": "markdown",
   "id": "646950bd-7f75-4aad-8e69-9f0b65f1797d",
   "metadata": {},
   "source": [
    "### 26. Average price by room type"
   ]
  },
  {
   "cell_type": "code",
   "execution_count": 28,
   "id": "6ad5dbfe-d0ef-48c0-a98c-4ae1dfa6277d",
   "metadata": {},
   "outputs": [
    {
     "name": "stdout",
     "output_type": "stream",
     "text": [
      "\n",
      "Average price by room type:\n"
     ]
    },
    {
     "data": {
      "text/plain": [
       "room_type\n",
       "Hotel room         272.545455\n",
       "Entire home/apt    221.293286\n",
       "Private room       110.846904\n",
       "Shared room         96.290598\n",
       "Name: price, dtype: float64"
      ]
     },
     "metadata": {},
     "output_type": "display_data"
    }
   ],
   "source": [
    "avg_price_by_room = df.groupby('room_type')['price'].mean().sort_values(ascending=False)\n",
    "print(\"\\nAverage price by room type:\")\n",
    "display(avg_price_by_room)"
   ]
  },
  {
   "cell_type": "markdown",
   "id": "40890dab-0d4d-4750-96b9-4f78413ad81f",
   "metadata": {},
   "source": [
    "### 27. Listings with >100 reviews and 4.9+ rating"
   ]
  },
  {
   "cell_type": "code",
   "execution_count": 29,
   "id": "4f27eba8-49d8-4945-b380-03d8bd4f4200",
   "metadata": {},
   "outputs": [
    {
     "name": "stdout",
     "output_type": "stream",
     "text": [
      "\n",
      "High-quality listings: 638\n"
     ]
    },
    {
     "data": {
      "text/html": [
       "<div>\n",
       "<style scoped>\n",
       "    .dataframe tbody tr th:only-of-type {\n",
       "        vertical-align: middle;\n",
       "    }\n",
       "\n",
       "    .dataframe tbody tr th {\n",
       "        vertical-align: top;\n",
       "    }\n",
       "\n",
       "    .dataframe thead th {\n",
       "        text-align: right;\n",
       "    }\n",
       "</style>\n",
       "<table border=\"1\" class=\"dataframe\">\n",
       "  <thead>\n",
       "    <tr style=\"text-align: right;\">\n",
       "      <th></th>\n",
       "      <th>id</th>\n",
       "      <th>name</th>\n",
       "      <th>host_id</th>\n",
       "      <th>host_name</th>\n",
       "      <th>neighbourhood_group</th>\n",
       "      <th>neighbourhood</th>\n",
       "      <th>latitude</th>\n",
       "      <th>longitude</th>\n",
       "      <th>room_type</th>\n",
       "      <th>price</th>\n",
       "      <th>...</th>\n",
       "      <th>reviews_per_month</th>\n",
       "      <th>calculated_host_listings_count</th>\n",
       "      <th>availability_365</th>\n",
       "      <th>number_of_reviews_ltm</th>\n",
       "      <th>review_scores_rating</th>\n",
       "      <th>room_type_category</th>\n",
       "      <th>price_category</th>\n",
       "      <th>review_month</th>\n",
       "      <th>log_price</th>\n",
       "      <th>availability_status</th>\n",
       "    </tr>\n",
       "  </thead>\n",
       "  <tbody>\n",
       "    <tr>\n",
       "      <th>59</th>\n",
       "      <td>44973.0</td>\n",
       "      <td>Creative South Williamsburg Studio</td>\n",
       "      <td>198411</td>\n",
       "      <td>Anastasia</td>\n",
       "      <td>Brooklyn</td>\n",
       "      <td>Williamsburg</td>\n",
       "      <td>40.70894</td>\n",
       "      <td>-73.95234</td>\n",
       "      <td>Entire home/apt</td>\n",
       "      <td>77.0</td>\n",
       "      <td>...</td>\n",
       "      <td>0.70</td>\n",
       "      <td>1</td>\n",
       "      <td>148</td>\n",
       "      <td>1</td>\n",
       "      <td>5.00</td>\n",
       "      <td>Entire</td>\n",
       "      <td>Budget</td>\n",
       "      <td>January</td>\n",
       "      <td>4.356709</td>\n",
       "      <td>Medium</td>\n",
       "    </tr>\n",
       "    <tr>\n",
       "      <th>84</th>\n",
       "      <td>152263.0</td>\n",
       "      <td>Cozy private room and bathroom in a Brownstone</td>\n",
       "      <td>732535</td>\n",
       "      <td>William</td>\n",
       "      <td>Manhattan</td>\n",
       "      <td>Harlem</td>\n",
       "      <td>40.80493</td>\n",
       "      <td>-73.94999</td>\n",
       "      <td>Private room</td>\n",
       "      <td>282.0</td>\n",
       "      <td>...</td>\n",
       "      <td>2.31</td>\n",
       "      <td>2</td>\n",
       "      <td>346</td>\n",
       "      <td>32</td>\n",
       "      <td>4.98</td>\n",
       "      <td>Private</td>\n",
       "      <td>Standard</td>\n",
       "      <td>April</td>\n",
       "      <td>5.645447</td>\n",
       "      <td>High</td>\n",
       "    </tr>\n",
       "  </tbody>\n",
       "</table>\n",
       "<p>2 rows × 23 columns</p>\n",
       "</div>"
      ],
      "text/plain": [
       "          id                                            name  host_id  \\\n",
       "59   44973.0              Creative South Williamsburg Studio   198411   \n",
       "84  152263.0  Cozy private room and bathroom in a Brownstone   732535   \n",
       "\n",
       "    host_name neighbourhood_group neighbourhood  latitude  longitude  \\\n",
       "59  Anastasia            Brooklyn  Williamsburg  40.70894  -73.95234   \n",
       "84    William           Manhattan        Harlem  40.80493  -73.94999   \n",
       "\n",
       "          room_type  price  ...  reviews_per_month  \\\n",
       "59  Entire home/apt   77.0  ...               0.70   \n",
       "84     Private room  282.0  ...               2.31   \n",
       "\n",
       "    calculated_host_listings_count availability_365  number_of_reviews_ltm  \\\n",
       "59                               1              148                      1   \n",
       "84                               2              346                     32   \n",
       "\n",
       "    review_scores_rating  room_type_category  price_category  review_month  \\\n",
       "59                  5.00              Entire          Budget       January   \n",
       "84                  4.98             Private        Standard         April   \n",
       "\n",
       "   log_price availability_status  \n",
       "59  4.356709              Medium  \n",
       "84  5.645447                High  \n",
       "\n",
       "[2 rows x 23 columns]"
      ]
     },
     "metadata": {},
     "output_type": "display_data"
    }
   ],
   "source": [
    "high_quality = df.query('number_of_reviews > 100 and review_scores_rating >= 4.9')\n",
    "print(f\"\\nHigh-quality listings: {len(high_quality)}\")\n",
    "display(high_quality.head(2))"
   ]
  },
  {
   "cell_type": "markdown",
   "id": "aad9c695-8c63-4361-a3e3-1b84696f7177",
   "metadata": {},
   "source": [
    "### 28. Availability by neighborhood group"
   ]
  },
  {
   "cell_type": "code",
   "execution_count": 30,
   "id": "53086a74-4d7c-4b76-bfbc-f05f4560e60e",
   "metadata": {},
   "outputs": [
    {
     "name": "stdout",
     "output_type": "stream",
     "text": [
      "\n",
      "Average availability by neighborhood group:\n"
     ]
    },
    {
     "data": {
      "text/plain": [
       "neighbourhood_group\n",
       "Bronx            242.288914\n",
       "Brooklyn         228.754000\n",
       "Manhattan        236.700000\n",
       "Queens           236.348902\n",
       "Staten Island    244.151613\n",
       "Name: availability_365, dtype: float64"
      ]
     },
     "metadata": {},
     "output_type": "display_data"
    }
   ],
   "source": [
    "availability = df.groupby('neighbourhood_group')['availability_365'].mean()\n",
    "print(\"\\nAverage availability by neighborhood group:\")\n",
    "display(availability)"
   ]
  },
  {
   "cell_type": "markdown",
   "id": "e53b9076-6697-49f0-a7c2-55d98179b3cf",
   "metadata": {},
   "source": [
    "### 29. Price vs. review score correlation"
   ]
  },
  {
   "cell_type": "code",
   "execution_count": 31,
   "id": "20625c76-e570-4f52-8695-c6dc001ae734",
   "metadata": {},
   "outputs": [
    {
     "name": "stdout",
     "output_type": "stream",
     "text": [
      "\n",
      "Price vs. review score correlation: 0.01\n"
     ]
    }
   ],
   "source": [
    "price_review_corr = df[['price', 'review_scores_rating']].corr().iloc[0,1]\n",
    "print(f\"\\nPrice vs. review score correlation: {price_review_corr:.2f}\")"
   ]
  },
  {
   "cell_type": "markdown",
   "id": "ee73293a-5d9d-4851-b662-9bcdddea8abb",
   "metadata": {},
   "source": [
    "### 30. Busiest hosts (most listings)"
   ]
  },
  {
   "cell_type": "code",
   "execution_count": 32,
   "id": "952fdd7c-b288-4683-9eaf-312fc2d1b81b",
   "metadata": {},
   "outputs": [
    {
     "name": "stdout",
     "output_type": "stream",
     "text": [
      "\n",
      "Busiest hosts:\n"
     ]
    },
    {
     "data": {
      "text/plain": [
       "host_name\n",
       "Blueground         1000\n",
       "Eugene              388\n",
       "Kristina            334\n",
       "Urban Furnished     273\n",
       "Tina                253\n",
       "Name: count, dtype: int64"
      ]
     },
     "metadata": {},
     "output_type": "display_data"
    }
   ],
   "source": [
    "busiest_hosts = df['host_name'].value_counts().nlargest(5)\n",
    "print(\"\\nBusiest hosts:\")\n",
    "display(busiest_hosts)"
   ]
  },
  {
   "cell_type": "markdown",
   "id": "1cd7e70e-5a3f-47af-a8c8-8b9904230811",
   "metadata": {},
   "source": [
    "### 31. Monthly review trends"
   ]
  },
  {
   "cell_type": "code",
   "execution_count": 33,
   "id": "68bb9682-194c-4ac4-8d0f-047d03f1165f",
   "metadata": {},
   "outputs": [
    {
     "name": "stdout",
     "output_type": "stream",
     "text": [
      "\n",
      "Monthly review trends:\n"
     ]
    },
    {
     "data": {
      "text/plain": [
       "review_month\n",
       "January       43028\n",
       "February      28554\n",
       "March         66324\n",
       "April        307064\n",
       "May           19997\n",
       "June          12435\n",
       "July          18232\n",
       "August        30800\n",
       "September     46051\n",
       "October       52487\n",
       "November      57027\n",
       "December      51813\n",
       "Name: number_of_reviews, dtype: int64"
      ]
     },
     "metadata": {},
     "output_type": "display_data"
    }
   ],
   "source": [
    "monthly_reviews = df.groupby('review_month')['number_of_reviews'].sum().reindex(['January', 'February', 'March', 'April', 'May', 'June', 'July', 'August', 'September', 'October', 'November', 'December'])\n",
    "print(\"\\nMonthly review trends:\")\n",
    "display(monthly_reviews)"
   ]
  },
  {
   "cell_type": "markdown",
   "id": "76f227f6-b718-4f30-94e3-90bdae16cc41",
   "metadata": {},
   "source": [
    "### 32. Price differences between boroughs"
   ]
  },
  {
   "cell_type": "code",
   "execution_count": 34,
   "id": "5cc2fa5c-9a2b-4c0b-a0fb-23a0302407bc",
   "metadata": {},
   "outputs": [
    {
     "name": "stdout",
     "output_type": "stream",
     "text": [
      "\n",
      "Price differences between boroughs:\n"
     ]
    },
    {
     "data": {
      "text/html": [
       "<div>\n",
       "<style scoped>\n",
       "    .dataframe tbody tr th:only-of-type {\n",
       "        vertical-align: middle;\n",
       "    }\n",
       "\n",
       "    .dataframe tbody tr th {\n",
       "        vertical-align: top;\n",
       "    }\n",
       "\n",
       "    .dataframe thead th {\n",
       "        text-align: right;\n",
       "    }\n",
       "</style>\n",
       "<table border=\"1\" class=\"dataframe\">\n",
       "  <thead>\n",
       "    <tr style=\"text-align: right;\">\n",
       "      <th></th>\n",
       "      <th>mean</th>\n",
       "      <th>median</th>\n",
       "      <th>std</th>\n",
       "    </tr>\n",
       "    <tr>\n",
       "      <th>neighbourhood_group</th>\n",
       "      <th></th>\n",
       "      <th></th>\n",
       "      <th></th>\n",
       "    </tr>\n",
       "  </thead>\n",
       "  <tbody>\n",
       "    <tr>\n",
       "      <th>Bronx</th>\n",
       "      <td>108.931691</td>\n",
       "      <td>90.0</td>\n",
       "      <td>69.274352</td>\n",
       "    </tr>\n",
       "    <tr>\n",
       "      <th>Brooklyn</th>\n",
       "      <td>148.597839</td>\n",
       "      <td>125.0</td>\n",
       "      <td>98.104129</td>\n",
       "    </tr>\n",
       "    <tr>\n",
       "      <th>Manhattan</th>\n",
       "      <td>222.907630</td>\n",
       "      <td>198.0</td>\n",
       "      <td>125.938675</td>\n",
       "    </tr>\n",
       "    <tr>\n",
       "      <th>Queens</th>\n",
       "      <td>128.003712</td>\n",
       "      <td>104.0</td>\n",
       "      <td>84.846626</td>\n",
       "    </tr>\n",
       "    <tr>\n",
       "      <th>Staten Island</th>\n",
       "      <td>109.741935</td>\n",
       "      <td>96.0</td>\n",
       "      <td>60.884881</td>\n",
       "    </tr>\n",
       "  </tbody>\n",
       "</table>\n",
       "</div>"
      ],
      "text/plain": [
       "                           mean  median         std\n",
       "neighbourhood_group                                \n",
       "Bronx                108.931691    90.0   69.274352\n",
       "Brooklyn             148.597839   125.0   98.104129\n",
       "Manhattan            222.907630   198.0  125.938675\n",
       "Queens               128.003712   104.0   84.846626\n",
       "Staten Island        109.741935    96.0   60.884881"
      ]
     },
     "metadata": {},
     "output_type": "display_data"
    }
   ],
   "source": [
    "borough_price_diff = df.groupby('neighbourhood_group')['price'].agg(['mean', 'median', 'std'])\n",
    "print(\"\\nPrice differences between boroughs:\")\n",
    "display(borough_price_diff)"
   ]
  },
  {
   "cell_type": "markdown",
   "id": "35177eb6-4e30-4155-b39f-01ec2ecbcf86",
   "metadata": {},
   "source": [
    "### 33. Most common room types"
   ]
  },
  {
   "cell_type": "code",
   "execution_count": 35,
   "id": "387e0fed-d884-44e1-bd53-3d1fd4a131e0",
   "metadata": {},
   "outputs": [
    {
     "name": "stdout",
     "output_type": "stream",
     "text": [
      "\n",
      "Most common room types:\n"
     ]
    },
    {
     "data": {
      "text/plain": [
       "room_type_category\n",
       "Entire     0.572234\n",
       "Private    0.422030\n",
       "Shared     0.005736\n",
       "Name: proportion, dtype: float64"
      ]
     },
     "metadata": {},
     "output_type": "display_data"
    }
   ],
   "source": [
    "common_room_types = df['room_type_category'].value_counts(normalize=True)\n",
    "print(\"\\nMost common room types:\")\n",
    "display(common_room_types)"
   ]
  },
  {
   "cell_type": "markdown",
   "id": "571da88f-0b6d-4677-bae7-265866be1608",
   "metadata": {},
   "source": [
    "### 34. Luxury listings in Manhattan"
   ]
  },
  {
   "cell_type": "code",
   "execution_count": 36,
   "id": "d4b6dedf-89f5-4d89-8f0e-b36574810b8a",
   "metadata": {},
   "outputs": [
    {
     "name": "stdout",
     "output_type": "stream",
     "text": [
      "\n",
      "Luxury listings in Manhattan: 0\n"
     ]
    }
   ],
   "source": [
    "manhattan_luxury = df.query('neighbourhood_group == \"Manhattan\" and price_category == \"Luxury\"')\n",
    "print(f\"\\nLuxury listings in Manhattan: {len(manhattan_luxury)}\")"
   ]
  },
  {
   "cell_type": "markdown",
   "id": "1ea5a28b-8294-4e22-84b6-1b00c4f2cf0a",
   "metadata": {},
   "source": [
    "### 35. Average minimum nights by room type"
   ]
  },
  {
   "cell_type": "code",
   "execution_count": 37,
   "id": "4f6a0fb8-2a78-47ef-963a-fe0951c8fa45",
   "metadata": {},
   "outputs": [
    {
     "name": "stdout",
     "output_type": "stream",
     "text": [
      "\n",
      "Average minimum nights by room type:\n"
     ]
    },
    {
     "data": {
      "text/plain": [
       "room_type_category\n",
       "Entire     28.611154\n",
       "Private    26.196074\n",
       "Shared     36.794872\n",
       "Name: minimum_nights, dtype: float64"
      ]
     },
     "metadata": {},
     "output_type": "display_data"
    }
   ],
   "source": [
    "avg_min_nights = df.groupby('room_type_category')['minimum_nights'].mean()\n",
    "print(\"\\nAverage minimum nights by room type:\")\n",
    "display(avg_min_nights)"
   ]
  },
  {
   "cell_type": "markdown",
   "id": "f32a502e-d270-4502-9cc6-a011b96b8b0e",
   "metadata": {},
   "source": [
    "### 36. Price vs. location precision"
   ]
  },
  {
   "cell_type": "code",
   "execution_count": 38,
   "id": "7f7da918-9c93-4fcf-824c-ef930ed25909",
   "metadata": {},
   "outputs": [
    {
     "name": "stdout",
     "output_type": "stream",
     "text": [
      "\n",
      "Price vs. location correlation:\n"
     ]
    },
    {
     "data": {
      "text/html": [
       "<div>\n",
       "<style scoped>\n",
       "    .dataframe tbody tr th:only-of-type {\n",
       "        vertical-align: middle;\n",
       "    }\n",
       "\n",
       "    .dataframe tbody tr th {\n",
       "        vertical-align: top;\n",
       "    }\n",
       "\n",
       "    .dataframe thead th {\n",
       "        text-align: right;\n",
       "    }\n",
       "</style>\n",
       "<table border=\"1\" class=\"dataframe\">\n",
       "  <thead>\n",
       "    <tr style=\"text-align: right;\">\n",
       "      <th></th>\n",
       "      <th>price</th>\n",
       "      <th>latitude</th>\n",
       "      <th>longitude</th>\n",
       "    </tr>\n",
       "  </thead>\n",
       "  <tbody>\n",
       "    <tr>\n",
       "      <th>price</th>\n",
       "      <td>1.000000</td>\n",
       "      <td>0.070625</td>\n",
       "      <td>-0.277359</td>\n",
       "    </tr>\n",
       "    <tr>\n",
       "      <th>latitude</th>\n",
       "      <td>0.070625</td>\n",
       "      <td>1.000000</td>\n",
       "      <td>0.043508</td>\n",
       "    </tr>\n",
       "    <tr>\n",
       "      <th>longitude</th>\n",
       "      <td>-0.277359</td>\n",
       "      <td>0.043508</td>\n",
       "      <td>1.000000</td>\n",
       "    </tr>\n",
       "  </tbody>\n",
       "</table>\n",
       "</div>"
      ],
      "text/plain": [
       "              price  latitude  longitude\n",
       "price      1.000000  0.070625  -0.277359\n",
       "latitude   0.070625  1.000000   0.043508\n",
       "longitude -0.277359  0.043508   1.000000"
      ]
     },
     "metadata": {},
     "output_type": "display_data"
    }
   ],
   "source": [
    "price_location_corr = df[['price', 'latitude', 'longitude']].corr()\n",
    "print(\"\\nPrice vs. location correlation:\")\n",
    "display(price_location_corr)"
   ]
  },
  {
   "cell_type": "markdown",
   "id": "22ed01a2-82c9-4c7f-a0ed-cd64a6f84f0d",
   "metadata": {},
   "source": [
    "# Data Visualization"
   ]
  },
  {
   "cell_type": "markdown",
   "id": "3af94358-7c1d-43ab-b007-01bedc59e09c",
   "metadata": {},
   "source": [
    "### 1. Price distribution"
   ]
  },
  {
   "cell_type": "code",
   "execution_count": 39,
   "id": "9ec9353a-8aa5-4821-91a7-9feb991dfdb6",
   "metadata": {},
   "outputs": [
    {
     "data": {
      "image/png": "[encoded data removed]",
      "text/plain": [
       "<Figure size 1200x600 with 1 Axes>"
      ]
     },
     "metadata": {},
     "output_type": "display_data"
    }
   ],
   "source": [
    "sns.set_style(\"whitegrid\")\n",
    "filtered_df = df[df['price'] <= 500]\n",
    "plt.figure(figsize=(12, 6))\n",
    "sns.histplot(filtered_df['price'], bins=50, kde=False, color='skyblue', edgecolor='black')\n",
    "plt.title('Distribution of Airbnb Listing Prices in NYC (Under $500)', fontsize=16, fontweight='bold')\n",
    "plt.xlabel('Price ($)', fontsize=12)\n",
    "plt.ylabel('Number of Listings', fontsize=12)\n",
    "plt.axvline(x=100, color='red', linestyle='--', linewidth=1.5, label='Popular Range: ≤ $100')\n",
    "plt.legend()\n",
    "plt.grid(True, linestyle='--', alpha=0.5)\n",
    "plt.tight_layout()\n",
    "plt.show()"
   ]
  },
  {
   "cell_type": "markdown",
   "id": "3f521fa8-ba12-4b30-a8d7-8595d029aa0d",
   "metadata": {},
   "source": [
    "###  2. Listing Distribution by Borough ( pie chart)"
   ]
  },
  {
   "cell_type": "code",
   "execution_count": 40,
   "id": "2a2544b2-85c3-4b40-a405-9441d6ecaeaf",
   "metadata": {},
   "outputs": [
    {
     "data": {
      "image/png": "[encoded data removed]",
      "text/plain": [
       "<Figure size 800x500 with 1 Axes>"
      ]
     },
     "metadata": {},
     "output_type": "display_data"
    }
   ],
   "source": [
    "borough_counts = df['neighbourhood_group'].value_counts()\n",
    "colors = plt.cm.Pastel1.colors\n",
    "plt.figure(figsize=(8, 5))\n",
    "plt.pie(borough_counts,labels=borough_counts.index,autopct='%1.1f%%',startangle=140,colors=colors,textprops={'fontsize': 12})\n",
    "plt.title('Listing Distribution by Borough', fontsize=16, fontweight='bold')\n",
    "plt.axis('equal')\n",
    "plt.legend(labels=borough_counts.index,title='Boroughs',loc='upper right',bbox_to_anchor=(1.1, 1))\n",
    "plt.show()\n"
   ]
  },
  {
   "cell_type": "markdown",
   "id": "5b21d903-daf0-42ee-b0b7-691bdfaea90a",
   "metadata": {},
   "source": [
    "### 3.Lisiting Disrtibution by Borough(count plot)"
   ]
  },
  {
   "cell_type": "code",
   "execution_count": 41,
   "id": "392308dc-9a48-4a56-9bbd-daf956fa2646",
   "metadata": {},
   "outputs": [
    {
     "data": {
      "image/png": "[encoded data removed]",
      "text/plain": [
       "<Figure size 800x500 with 1 Axes>"
      ]
     },
     "metadata": {},
     "output_type": "display_data"
    }
   ],
   "source": [
    "plt.figure(figsize=(8, 5))\n",
    "colors = sns.color_palette(\"Set2\", n_colors=5)\n",
    "bars=sns.countplot(data=df, x='neighbourhood_group',hue='neighbourhood_group', order=df['neighbourhood_group'].value_counts().index,palette=colors,legend=True)\n",
    "plt.title('Number of Listings by Borough')\n",
    "plt.xlabel('Borough')\n",
    "plt.ylabel('Number of Listings')\n",
    "for bar in bars.patches:\n",
    "    height = int(bar.get_height())\n",
    "    if height > 0:\n",
    "     bars.text(bar.get_x() + bar.get_width() / 2,height + 5,height,ha='center',fontsize=9)\n",
    "plt.show()"
   ]
  },
  {
   "cell_type": "markdown",
   "id": "52771a06-b1a0-469c-bda0-673e5e00e98c",
   "metadata": {},
   "source": [
    "### 4. Average price by room type and borough"
   ]
  },
  {
   "cell_type": "code",
   "execution_count": 42,
   "id": "d96f2470-6d9d-4623-925e-ec634a8d59a0",
   "metadata": {},
   "outputs": [
    {
     "data": {
      "image/png": "[encoded data removed]",
      "text/plain": [
       "<Figure size 800x500 with 1 Axes>"
      ]
     },
     "metadata": {},
     "output_type": "display_data"
    }
   ],
   "source": [
    "plt.figure(figsize=(8, 5))\n",
    "sns.barplot(x='neighbourhood_group', y='price', hue='room_type_category', data=df, estimator=np.median,errorbar=None)\n",
    "plt.title('Median Price by Room Type and Borough')\n",
    "plt.xlabel('Borough')\n",
    "plt.ylabel('Price ($)')\n",
    "plt.legend(title='Room Type')\n",
    "plt.show()"
   ]
  },
  {
   "cell_type": "markdown",
   "id": "521ad853-006d-4e12-ab1c-4a13b592fec6",
   "metadata": {},
   "source": [
    "### 5. Price category Distribution"
   ]
  },
  {
   "cell_type": "code",
   "execution_count": 43,
   "id": "6dbec57d-0385-4bb0-b688-150330893cdb",
   "metadata": {},
   "outputs": [
    {
     "data": {
      "image/png": "[encoded data removed]",
      "text/plain": [
       "<Figure size 1000x600 with 1 Axes>"
      ]
     },
     "metadata": {},
     "output_type": "display_data"
    }
   ],
   "source": [
    "plt.figure(figsize=(10, 6))\n",
    "price_counts = df['price_category'].value_counts().sort_index()\n",
    "colors = sns.color_palette(\"Set2\", len(price_counts))\n",
    "bars = plt.bar(price_counts.index, price_counts.values, color=colors)\n",
    "plt.title('Price Category Distribution', fontsize=16, fontweight='bold')\n",
    "plt.xlabel('Price Category', fontsize=12)\n",
    "plt.ylabel('Number of Listings', fontsize=12)\n",
    "for bar in bars:\n",
    "    height = bar.get_height()\n",
    "    plt.text(bar.get_x() + bar.get_width()/2, height + 5, str(int(height)),ha='center', va='bottom', fontsize=10, fontweight='bold')\n",
    "plt.tight_layout()\n",
    "plt.show()"
   ]
  },
  {
   "cell_type": "markdown",
   "id": "2d5eb2ce-be5d-4e2d-ad2b-4eafc8177cd8",
   "metadata": {},
   "source": [
    "### 6. Rating Distribution (KDE Plot)"
   ]
  },
  {
   "cell_type": "code",
   "execution_count": 44,
   "id": "a1a078a2-d818-48fc-a39e-84e06c40e99a",
   "metadata": {},
   "outputs": [
    {
     "data": {
      "image/png": "[encoded data removed]",
      "text/plain": [
       "<Figure size 1000x600 with 1 Axes>"
      ]
     },
     "metadata": {},
     "output_type": "display_data"
    }
   ],
   "source": [
    "plt.figure(figsize=(10,6))\n",
    "sns.kdeplot(df['review_scores_rating'].dropna(), fill=True, color='#FF5A5F')\n",
    "plt.axvline(df['review_scores_rating'].median(), color='red', linestyle='--', label=f'Median: {df[\"review_scores_rating\"].median():.1f}')\n",
    "plt.title('Guest Rating Distribution', fontsize=16)\n",
    "plt.xlabel('Review Score (0-100)', fontsize=12)\n",
    "plt.ylabel('Density', fontsize=12)\n",
    "plt.legend()\n",
    "plt.show()"
   ]
  },
  {
   "cell_type": "markdown",
   "id": "ff2009cc-41e0-427c-baba-8ef76dd6166c",
   "metadata": {},
   "source": [
    "### 7. Price Comparison by Borough (Bar Plot)"
   ]
  },
  {
   "cell_type": "code",
   "execution_count": 45,
   "id": "6fddaf35-facc-49c1-ad26-367bcb71c749",
   "metadata": {},
   "outputs": [
    {
     "data": {
      "image/png": "[encoded data removed]",
      "text/plain": [
       "<Figure size 1000x600 with 1 Axes>"
      ]
     },
     "metadata": {},
     "output_type": "display_data"
    }
   ],
   "source": [
    "order = ['Manhattan', 'Brooklyn', 'Queens', 'Bronx', 'Staten Island']\n",
    "colors = sns.color_palette(\"Set2\", len(order))\n",
    "plt.figure(figsize=(10, 6))\n",
    "sns.barplot(x='neighbourhood_group',y='price',hue='neighbourhood_group',data=df,order=order,palette=colors,legend=True,errorbar=None)\n",
    "avg_prices = df.groupby('neighbourhood_group')['price'].mean().loc[order]\n",
    "for i, price in enumerate(avg_prices):\n",
    "    plt.text(i, price + 5, f'${price:.0f}', ha='center')\n",
    "    plt.title('Average  Price by Borough', fontsize=16)\n",
    "plt.xlabel('Borough', fontsize=12)\n",
    "plt.ylabel('Average Price ($)', fontsize=12)\n",
    "plt.show()"
   ]
  },
  {
   "cell_type": "markdown",
   "id": "08d5a797-cac4-4ddd-a5c4-12e5b18c0295",
   "metadata": {},
   "source": [
    "### 8. Monthly Review Trends"
   ]
  },
  {
   "cell_type": "code",
   "execution_count": 46,
   "id": "6cdf7227-dc8b-41aa-9939-76bf1cf27771",
   "metadata": {},
   "outputs": [
    {
     "data": {
      "image/png": "[encoded data removed]",
      "text/plain": [
       "<Figure size 1000x600 with 1 Axes>"
      ]
     },
     "metadata": {},
     "output_type": "display_data"
    }
   ],
   "source": [
    "month_order = ['January', 'February', 'March', 'April', 'May', 'June','July', 'August', 'September', 'October', 'November', 'December']\n",
    "monthly = df.groupby('review_month')['number_of_reviews'].sum().reindex(month_order)\n",
    "plt.figure(figsize=(10,6))\n",
    "monthly.plot(marker='o', color='Teal')\n",
    "plt.fill_between(monthly.index, monthly.values, color='Teal', alpha=0.2)\n",
    "plt.title('Seasonal Booking Patterns', fontsize=16)\n",
    "plt.xlabel('Month', fontsize=12)\n",
    "plt.ylabel('Total Reviews', fontsize=12)\n",
    "plt.xticks(rotation=45)\n",
    "plt.grid(alpha=0.3)\n",
    "plt.show()"
   ]
  },
  {
   "cell_type": "markdown",
   "id": "98b9ff8f-2e22-4ac6-878d-f4ce35f7fb04",
   "metadata": {},
   "source": [
    "### 9.Availability Calender"
   ]
  },
  {
   "cell_type": "code",
   "execution_count": 47,
   "id": "5b440214-5df4-426f-b756-4ff1a21c4ae9",
   "metadata": {},
   "outputs": [
    {
     "data": {
      "image/png": "[encoded data removed]",
      "text/plain": [
       "<Figure size 1000x600 with 2 Axes>"
      ]
     },
     "metadata": {},
     "output_type": "display_data"
    }
   ],
   "source": [
    "availability_pivot = pd.pivot_table(df, values='id', index='neighbourhood_group', columns='availability_status', aggfunc='count')\n",
    "plt.figure(figsize=(10,6))\n",
    "sns.heatmap(availability_pivot, annot=True, fmt=',d', cmap='YlGnBu')\n",
    "plt.title('Listing Availability by Borough', fontsize=14)\n",
    "plt.xlabel('Availability Status')\n",
    "plt.ylabel('Borough')\n",
    "plt.show()"
   ]
  },
  {
   "cell_type": "markdown",
   "id": "5a2aa2bf-ec5d-4e2a-950f-4657a93e38b0",
   "metadata": {},
   "source": [
    "### 10. Top Hosts by Portfolio Size (Horizontal Bar Chart)\n"
   ]
  },
  {
   "cell_type": "code",
   "execution_count": 48,
   "id": "666987d7-f28e-471d-86b9-1f0db9eafc4b",
   "metadata": {},
   "outputs": [
    {
     "data": {
      "image/png": "[encoded data removed]",
      "text/plain": [
       "<Figure size 1200x800 with 1 Axes>"
      ]
     },
     "metadata": {},
     "output_type": "display_data"
    }
   ],
   "source": [
    "top_hosts = df['host_name'].value_counts().nlargest(10)\n",
    "plt.figure(figsize=(12, 8))\n",
    "colors = plt.cm.viridis(np.linspace(0, 1, len(top_hosts)))\n",
    "top_hosts.sort_values().plot(kind='barh', color=colors, edgecolor='black')\n",
    "for i, count in enumerate(top_hosts.sort_values()):\n",
    "    plt.text(count + 5, i, f'{count} listings', va='center', fontsize=10)\n",
    "plt.title('Top 10 Hosts by Portfolio Size', fontsize=18, pad=15)\n",
    "plt.xlabel('Number of Listings', fontsize=12)\n",
    "plt.ylabel('Host Name', fontsize=12)\n",
    "plt.xlim(0, top_hosts.max() + 50)\n",
    "plt.grid(axis='x', alpha=0.2)\n",
    "plt.tight_layout()\n",
    "plt.show()"
   ]
  }
 ],
 "metadata": {
  "kernelspec": {
   "display_name": "Python 3 (ipykernel)",
   "language": "python",
   "name": "python3"
  },
  "language_info": {
   "codemirror_mode": {
    "name": "ipython",
    "version": 3
   },
   "file_extension": ".py",
   "mimetype": "text/x-python",
   "name": "python",
   "nbconvert_exporter": "python",
   "pygments_lexer": "ipython3",
   "version": "3.13.3"
  }
 },
 "nbformat": 4,
 "nbformat_minor": 5
}
